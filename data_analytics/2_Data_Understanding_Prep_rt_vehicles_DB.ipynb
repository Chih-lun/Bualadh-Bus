{
 "cells": [
  {
   "cell_type": "code",
   "execution_count": 3,
   "metadata": {},
   "outputs": [],
   "source": [
    "#Import package pandas for data analysis\n",
    "import pandas as pd\n",
    "# Import package numpy for numeric computing\n",
    "import numpy as np\n",
    "from numpy import int64\n",
    "from numpy import float64\n",
    "from numpy import datetime64\n",
    "# Import package matplotlib for visualisation/plotting\n",
    "import matplotlib.pyplot as plt\n",
    "# Allows plots to appear directly in the notebook.\n",
    "%matplotlib inline\n",
    "# For dealing with some Accented characters (in Irish Place names)\n",
    "import unidecode\n",
    "# Date/time functionality\n",
    "import datetime\n",
    "import time\n",
    "# Check if files exist\n",
    "from os.path import exists\n",
    "from os import makedirs\n",
    "# System specific parameters and functions\n",
    "import sys\n",
    "# look at some z-scores for inspecting outliers.\n",
    "from scipy import stats\n",
    "import seaborn as sb\n",
    "# lookup lat/long and convert lat/long to national grid references.\n",
    "import geopy\n",
    "import pyproj\n",
    "\n",
    "from patsy import dmatrices\n",
    "from sklearn import metrics\n",
    "\n",
    "from sklearn.datasets import make_classification\n",
    "from sklearn.ensemble import RandomForestClassifier\n",
    "from sklearn.ensemble import RandomForestRegressor\n",
    "\n",
    "from sklearn.linear_model import LinearRegression\n",
    "from sklearn.tree import DecisionTreeClassifier\n",
    "from sklearn.tree import DecisionTreeRegressor\n",
    "from sklearn.tree import export_graphviz\n",
    "#from sklearn.tree import export_text\n",
    "\n",
    "from sklearn.metrics import mean_absolute_error, make_scorer\n",
    "from sklearn.preprocessing import LabelEncoder\n",
    "\n",
    "from sklearn.model_selection import cross_validate\n",
    "from sklearn.model_selection import cross_val_score \n",
    "from sklearn.model_selection import RepeatedStratifiedKFold\n",
    "from sklearn.model_selection import train_test_split\n",
    "\n",
    "import graphviz\n",
    "from graphviz import Source\n",
    "#to read all CSV files in a folder\n",
    "import os\n",
    "import glob"
   ]
  },
  {
   "cell_type": "markdown",
   "metadata": {},
   "source": [
    "Reading data in chunks and adding dataframes to a list\n",
    "        \n",
    "        *Note: Dont need to run below cell if chunks already created, call get_chunks function to create chunks list"
   ]
  },
  {
   "cell_type": "code",
   "execution_count": 3,
   "metadata": {},
   "outputs": [
    {
     "name": "stdout",
     "output_type": "stream",
     "text": [
      "(272622, 7)\n"
     ]
    }
   ],
   "source": [
    "chunk_size = 10000000\n",
    "batch_no=1\n",
    "chunk_vehicles_list=[]\n",
    "for chunk in pd.read_csv('~/tmp/data/rt_vehicles_DB_2018.txt',sep=';',chunksize=chunk_size):\n",
    "    chunk_vehicles_list.append(chunk)\n",
    "    chunk.to_csv('Chunks/vehicles/'+str(batch_no)+'chunk_vehicles'+'.csv',index=False)\n",
    "    batch_no+=1\n",
    "    print(chunk.shape)"
   ]
  },
  {
   "cell_type": "markdown",
   "metadata": {},
   "source": [
    "Reading Data from multiple files in a folder to a list of data frames"
   ]
  },
  {
   "cell_type": "code",
   "execution_count": 4,
   "metadata": {},
   "outputs": [],
   "source": [
    "def get_chunks(location):\n",
    "    cwd=os.getcwd()\n",
    "    path = cwd+location\n",
    "    chunk_folder = glob.glob(os.path.join(path, \"*.csv\"))\n",
    "    chunk_list=[]\n",
    "    for filename in chunk_folder:\n",
    "        # read the csv file\n",
    "        df_chunk = pd.read_csv(filename)\n",
    "        chunk_list.append(df_chunk)\n",
    "        print('Location:', filename)\n",
    "    return chunk_list"
   ]
  },
  {
   "cell_type": "code",
   "execution_count": 5,
   "metadata": {},
   "outputs": [
    {
     "name": "stdout",
     "output_type": "stream",
     "text": [
      "('Location:', '/home/team8/notebook/Pelin/Chunks/vehicles/1chunk_vehicles.csv')\n"
     ]
    }
   ],
   "source": [
    "chunk_vehicles_list=get_chunks('/Chunks/vehicles')"
   ]
  },
  {
   "cell_type": "markdown",
   "metadata": {},
   "source": [
    "Combining chunks to 1 big dataframe"
   ]
  },
  {
   "cell_type": "code",
   "execution_count": 6,
   "metadata": {},
   "outputs": [],
   "source": [
    "df_vehicles=pd.concat(chunk_vehicles_list, axis=0)"
   ]
  },
  {
   "cell_type": "code",
   "execution_count": 8,
   "metadata": {},
   "outputs": [
    {
     "data": {
      "text/plain": [
       "(272622, 7)"
      ]
     },
     "execution_count": 8,
     "metadata": {},
     "output_type": "execute_result"
    }
   ],
   "source": [
    "df_vehicles.shape"
   ]
  },
  {
   "cell_type": "code",
   "execution_count": 10,
   "metadata": {},
   "outputs": [
    {
     "data": {
      "text/html": [
       "<div>\n",
       "<style scoped>\n",
       "    .dataframe tbody tr th:only-of-type {\n",
       "        vertical-align: middle;\n",
       "    }\n",
       "\n",
       "    .dataframe tbody tr th {\n",
       "        vertical-align: top;\n",
       "    }\n",
       "\n",
       "    .dataframe thead th {\n",
       "        text-align: right;\n",
       "    }\n",
       "</style>\n",
       "<table border=\"1\" class=\"dataframe\">\n",
       "  <thead>\n",
       "    <tr style=\"text-align: right;\">\n",
       "      <th></th>\n",
       "      <th>DATASOURCE</th>\n",
       "      <th>DAYOFSERVICE</th>\n",
       "      <th>VEHICLEID</th>\n",
       "      <th>DISTANCE</th>\n",
       "      <th>MINUTES</th>\n",
       "      <th>LASTUPDATE</th>\n",
       "      <th>NOTE</th>\n",
       "    </tr>\n",
       "  </thead>\n",
       "  <tbody>\n",
       "    <tr>\n",
       "      <th>0</th>\n",
       "      <td>DB</td>\n",
       "      <td>23-NOV-18 00:00:00</td>\n",
       "      <td>3303848</td>\n",
       "      <td>286166</td>\n",
       "      <td>58849</td>\n",
       "      <td>04-DEC-18 08:03:09</td>\n",
       "      <td>NaN</td>\n",
       "    </tr>\n",
       "    <tr>\n",
       "      <th>1</th>\n",
       "      <td>DB</td>\n",
       "      <td>23-NOV-18 00:00:00</td>\n",
       "      <td>3303847</td>\n",
       "      <td>259545</td>\n",
       "      <td>56828</td>\n",
       "      <td>04-DEC-18 08:03:09</td>\n",
       "      <td>NaN</td>\n",
       "    </tr>\n",
       "    <tr>\n",
       "      <th>2</th>\n",
       "      <td>DB</td>\n",
       "      <td>28-FEB-18 00:00:00</td>\n",
       "      <td>2868329</td>\n",
       "      <td>103096</td>\n",
       "      <td>40967</td>\n",
       "      <td>08-MAR-18 10:35:59</td>\n",
       "      <td>NaN</td>\n",
       "    </tr>\n",
       "    <tr>\n",
       "      <th>3</th>\n",
       "      <td>DB</td>\n",
       "      <td>28-FEB-18 00:00:00</td>\n",
       "      <td>2868330</td>\n",
       "      <td>147277</td>\n",
       "      <td>43599</td>\n",
       "      <td>08-MAR-18 10:35:59</td>\n",
       "      <td>NaN</td>\n",
       "    </tr>\n",
       "    <tr>\n",
       "      <th>4</th>\n",
       "      <td>DB</td>\n",
       "      <td>28-FEB-18 00:00:00</td>\n",
       "      <td>2868331</td>\n",
       "      <td>224682</td>\n",
       "      <td>40447</td>\n",
       "      <td>08-MAR-18 10:35:59</td>\n",
       "      <td>NaN</td>\n",
       "    </tr>\n",
       "  </tbody>\n",
       "</table>\n",
       "</div>"
      ],
      "text/plain": [
       "  DATASOURCE        DAYOFSERVICE  VEHICLEID  DISTANCE  MINUTES  \\\n",
       "0         DB  23-NOV-18 00:00:00    3303848    286166    58849   \n",
       "1         DB  23-NOV-18 00:00:00    3303847    259545    56828   \n",
       "2         DB  28-FEB-18 00:00:00    2868329    103096    40967   \n",
       "3         DB  28-FEB-18 00:00:00    2868330    147277    43599   \n",
       "4         DB  28-FEB-18 00:00:00    2868331    224682    40447   \n",
       "\n",
       "           LASTUPDATE  NOTE  \n",
       "0  04-DEC-18 08:03:09   NaN  \n",
       "1  04-DEC-18 08:03:09   NaN  \n",
       "2  08-MAR-18 10:35:59   NaN  \n",
       "3  08-MAR-18 10:35:59   NaN  \n",
       "4  08-MAR-18 10:35:59   NaN  "
      ]
     },
     "execution_count": 10,
     "metadata": {},
     "output_type": "execute_result"
    }
   ],
   "source": [
    "df_vehicles.head(5)"
   ]
  },
  {
   "cell_type": "code",
   "execution_count": 11,
   "metadata": {},
   "outputs": [
    {
     "data": {
      "text/html": [
       "<div>\n",
       "<style scoped>\n",
       "    .dataframe tbody tr th:only-of-type {\n",
       "        vertical-align: middle;\n",
       "    }\n",
       "\n",
       "    .dataframe tbody tr th {\n",
       "        vertical-align: top;\n",
       "    }\n",
       "\n",
       "    .dataframe thead th {\n",
       "        text-align: right;\n",
       "    }\n",
       "</style>\n",
       "<table border=\"1\" class=\"dataframe\">\n",
       "  <thead>\n",
       "    <tr style=\"text-align: right;\">\n",
       "      <th></th>\n",
       "      <th>DATASOURCE</th>\n",
       "      <th>DAYOFSERVICE</th>\n",
       "      <th>VEHICLEID</th>\n",
       "      <th>DISTANCE</th>\n",
       "      <th>MINUTES</th>\n",
       "      <th>LASTUPDATE</th>\n",
       "      <th>NOTE</th>\n",
       "    </tr>\n",
       "  </thead>\n",
       "  <tbody>\n",
       "    <tr>\n",
       "      <th>272617</th>\n",
       "      <td>DB</td>\n",
       "      <td>29-DEC-18 00:00:00</td>\n",
       "      <td>3393878</td>\n",
       "      <td>264237</td>\n",
       "      <td>62320</td>\n",
       "      <td>16-JAN-19 18:00:42</td>\n",
       "      <td>NaN</td>\n",
       "    </tr>\n",
       "    <tr>\n",
       "      <th>272618</th>\n",
       "      <td>DB</td>\n",
       "      <td>29-DEC-18 00:00:00</td>\n",
       "      <td>3394105</td>\n",
       "      <td>250335</td>\n",
       "      <td>52254</td>\n",
       "      <td>16-JAN-19 18:00:42</td>\n",
       "      <td>NaN</td>\n",
       "    </tr>\n",
       "    <tr>\n",
       "      <th>272619</th>\n",
       "      <td>DB</td>\n",
       "      <td>29-DEC-18 00:00:00</td>\n",
       "      <td>3394109</td>\n",
       "      <td>172539</td>\n",
       "      <td>44349</td>\n",
       "      <td>16-JAN-19 18:00:42</td>\n",
       "      <td>NaN</td>\n",
       "    </tr>\n",
       "    <tr>\n",
       "      <th>272620</th>\n",
       "      <td>DB</td>\n",
       "      <td>29-DEC-18 00:00:00</td>\n",
       "      <td>3394130</td>\n",
       "      <td>188057</td>\n",
       "      <td>38948</td>\n",
       "      <td>16-JAN-19 18:00:42</td>\n",
       "      <td>NaN</td>\n",
       "    </tr>\n",
       "    <tr>\n",
       "      <th>272621</th>\n",
       "      <td>DB</td>\n",
       "      <td>29-DEC-18 00:00:00</td>\n",
       "      <td>3394131</td>\n",
       "      <td>291697</td>\n",
       "      <td>63677</td>\n",
       "      <td>16-JAN-19 18:00:42</td>\n",
       "      <td>NaN</td>\n",
       "    </tr>\n",
       "  </tbody>\n",
       "</table>\n",
       "</div>"
      ],
      "text/plain": [
       "       DATASOURCE        DAYOFSERVICE  VEHICLEID  DISTANCE  MINUTES  \\\n",
       "272617         DB  29-DEC-18 00:00:00    3393878    264237    62320   \n",
       "272618         DB  29-DEC-18 00:00:00    3394105    250335    52254   \n",
       "272619         DB  29-DEC-18 00:00:00    3394109    172539    44349   \n",
       "272620         DB  29-DEC-18 00:00:00    3394130    188057    38948   \n",
       "272621         DB  29-DEC-18 00:00:00    3394131    291697    63677   \n",
       "\n",
       "                LASTUPDATE  NOTE  \n",
       "272617  16-JAN-19 18:00:42   NaN  \n",
       "272618  16-JAN-19 18:00:42   NaN  \n",
       "272619  16-JAN-19 18:00:42   NaN  \n",
       "272620  16-JAN-19 18:00:42   NaN  \n",
       "272621  16-JAN-19 18:00:42   NaN  "
      ]
     },
     "execution_count": 11,
     "metadata": {},
     "output_type": "execute_result"
    }
   ],
   "source": [
    "df_vehicles.tail(5)"
   ]
  },
  {
   "cell_type": "code",
   "execution_count": 12,
   "metadata": {},
   "outputs": [
    {
     "name": "stdout",
     "output_type": "stream",
     "text": [
      "DATASOURCE           1\n",
      "DAYOFSERVICE       360\n",
      "VEHICLEID         1152\n",
      "DISTANCE        170498\n",
      "MINUTES          57523\n",
      "LASTUPDATE         360\n",
      "NOTE                 0\n",
      "dtype: int64\n",
      "==================================================================\n"
     ]
    }
   ],
   "source": [
    "for df in chunk_vehicles_list:\n",
    "    print(df.nunique())\n",
    "    print (\"=\"*66)"
   ]
  },
  {
   "cell_type": "markdown",
   "metadata": {},
   "source": [
    "There is 1152 Vehicle in this dataset, data related to 1019 of it is available in leavetimes dataset"
   ]
  },
  {
   "cell_type": "code",
   "execution_count": 14,
   "metadata": {},
   "outputs": [
    {
     "data": {
      "text/plain": [
       "Index([u'DATASOURCE', u'DAYOFSERVICE', u'VEHICLEID', u'DISTANCE', u'MINUTES',\n",
       "       u'LASTUPDATE', u'NOTE'],\n",
       "      dtype='object')"
      ]
     },
     "execution_count": 14,
     "metadata": {},
     "output_type": "execute_result"
    }
   ],
   "source": [
    "df_vehicles.columns"
   ]
  },
  {
   "cell_type": "markdown",
   "metadata": {},
   "source": [
    "Dropping empty and constant columns from all chunks in dataset."
   ]
  },
  {
   "cell_type": "code",
   "execution_count": 6,
   "metadata": {},
   "outputs": [],
   "source": [
    "for df in  chunk_vehicles_list:\n",
    "    del df['DATASOURCE']\n",
    "    del df['NOTE']"
   ]
  },
  {
   "cell_type": "code",
   "execution_count": 9,
   "metadata": {},
   "outputs": [],
   "source": [
    "# Clean the column names to remove white space after the name or in the name\n",
    "for df in chunk_vehicles_list:\n",
    "    df.columns = df.columns.str.replace(' ', '')"
   ]
  },
  {
   "cell_type": "code",
   "execution_count": 10,
   "metadata": {},
   "outputs": [],
   "source": [
    "#updating bigdataframe with newly derived features chunks\n",
    "df_vehicles=pd.concat(chunk_vehicles_list, axis=0)"
   ]
  },
  {
   "cell_type": "code",
   "execution_count": 11,
   "metadata": {},
   "outputs": [
    {
     "data": {
      "text/html": [
       "<div>\n",
       "<style scoped>\n",
       "    .dataframe tbody tr th:only-of-type {\n",
       "        vertical-align: middle;\n",
       "    }\n",
       "\n",
       "    .dataframe tbody tr th {\n",
       "        vertical-align: top;\n",
       "    }\n",
       "\n",
       "    .dataframe thead th {\n",
       "        text-align: right;\n",
       "    }\n",
       "</style>\n",
       "<table border=\"1\" class=\"dataframe\">\n",
       "  <thead>\n",
       "    <tr style=\"text-align: right;\">\n",
       "      <th></th>\n",
       "      <th>DAYOFSERVICE</th>\n",
       "      <th>VEHICLEID</th>\n",
       "      <th>DISTANCE</th>\n",
       "      <th>MINUTES</th>\n",
       "      <th>LASTUPDATE</th>\n",
       "    </tr>\n",
       "  </thead>\n",
       "  <tbody>\n",
       "    <tr>\n",
       "      <th>0</th>\n",
       "      <td>23-NOV-18 00:00:00</td>\n",
       "      <td>3303848</td>\n",
       "      <td>286166</td>\n",
       "      <td>58849</td>\n",
       "      <td>04-DEC-18 08:03:09</td>\n",
       "    </tr>\n",
       "    <tr>\n",
       "      <th>1</th>\n",
       "      <td>23-NOV-18 00:00:00</td>\n",
       "      <td>3303847</td>\n",
       "      <td>259545</td>\n",
       "      <td>56828</td>\n",
       "      <td>04-DEC-18 08:03:09</td>\n",
       "    </tr>\n",
       "    <tr>\n",
       "      <th>2</th>\n",
       "      <td>28-FEB-18 00:00:00</td>\n",
       "      <td>2868329</td>\n",
       "      <td>103096</td>\n",
       "      <td>40967</td>\n",
       "      <td>08-MAR-18 10:35:59</td>\n",
       "    </tr>\n",
       "    <tr>\n",
       "      <th>3</th>\n",
       "      <td>28-FEB-18 00:00:00</td>\n",
       "      <td>2868330</td>\n",
       "      <td>147277</td>\n",
       "      <td>43599</td>\n",
       "      <td>08-MAR-18 10:35:59</td>\n",
       "    </tr>\n",
       "    <tr>\n",
       "      <th>4</th>\n",
       "      <td>28-FEB-18 00:00:00</td>\n",
       "      <td>2868331</td>\n",
       "      <td>224682</td>\n",
       "      <td>40447</td>\n",
       "      <td>08-MAR-18 10:35:59</td>\n",
       "    </tr>\n",
       "  </tbody>\n",
       "</table>\n",
       "</div>"
      ],
      "text/plain": [
       "         DAYOFSERVICE  VEHICLEID  DISTANCE  MINUTES          LASTUPDATE\n",
       "0  23-NOV-18 00:00:00    3303848    286166    58849  04-DEC-18 08:03:09\n",
       "1  23-NOV-18 00:00:00    3303847    259545    56828  04-DEC-18 08:03:09\n",
       "2  28-FEB-18 00:00:00    2868329    103096    40967  08-MAR-18 10:35:59\n",
       "3  28-FEB-18 00:00:00    2868330    147277    43599  08-MAR-18 10:35:59\n",
       "4  28-FEB-18 00:00:00    2868331    224682    40447  08-MAR-18 10:35:59"
      ]
     },
     "execution_count": 11,
     "metadata": {},
     "output_type": "execute_result"
    }
   ],
   "source": [
    "df_vehicles.head(5)"
   ]
  },
  {
   "cell_type": "code",
   "execution_count": 12,
   "metadata": {},
   "outputs": [],
   "source": [
    "def update_csv_chunks(adress,name, c_list):\n",
    "    cwd=os.getcwd()\n",
    "    path = cwd+adress\n",
    "    batch_no=1\n",
    "    for chunk in c_list:\n",
    "        chunk.to_csv(path+str(batch_no)+name+'.csv',index=False)\n",
    "        batch_no+=1\n",
    "        print(chunk.shape)"
   ]
  },
  {
   "cell_type": "code",
   "execution_count": 13,
   "metadata": {
    "scrolled": true
   },
   "outputs": [
    {
     "name": "stdout",
     "output_type": "stream",
     "text": [
      "(272622, 5)\n"
     ]
    }
   ],
   "source": [
    "update_csv_chunks('/Chunks/vehicles/','chunk_vehicles', chunk_vehicles_list)"
   ]
  },
  {
   "cell_type": "markdown",
   "metadata": {},
   "source": [
    "Creating PK feature columns to merge with other DB datasets"
   ]
  },
  {
   "cell_type": "code",
   "execution_count": 14,
   "metadata": {},
   "outputs": [],
   "source": [
    "for df in chunk_vehicles_list:\n",
    "    df['PK_4_VehICLES']=df['DAYOFSERVICE'].astype('str')+df['VEHICLEID'].astype('str')"
   ]
  },
  {
   "cell_type": "code",
   "execution_count": 15,
   "metadata": {},
   "outputs": [],
   "source": [
    "#updating bigdataframe with newly derived features chunks\n",
    "df_vehicles=pd.concat(chunk_vehicles_list, axis=0)"
   ]
  },
  {
   "cell_type": "code",
   "execution_count": 16,
   "metadata": {},
   "outputs": [
    {
     "data": {
      "text/html": [
       "<div>\n",
       "<style scoped>\n",
       "    .dataframe tbody tr th:only-of-type {\n",
       "        vertical-align: middle;\n",
       "    }\n",
       "\n",
       "    .dataframe tbody tr th {\n",
       "        vertical-align: top;\n",
       "    }\n",
       "\n",
       "    .dataframe thead th {\n",
       "        text-align: right;\n",
       "    }\n",
       "</style>\n",
       "<table border=\"1\" class=\"dataframe\">\n",
       "  <thead>\n",
       "    <tr style=\"text-align: right;\">\n",
       "      <th></th>\n",
       "      <th>DAYOFSERVICE</th>\n",
       "      <th>VEHICLEID</th>\n",
       "      <th>DISTANCE</th>\n",
       "      <th>MINUTES</th>\n",
       "      <th>LASTUPDATE</th>\n",
       "      <th>PK_4_VehICLES</th>\n",
       "    </tr>\n",
       "  </thead>\n",
       "  <tbody>\n",
       "    <tr>\n",
       "      <th>0</th>\n",
       "      <td>23-NOV-18 00:00:00</td>\n",
       "      <td>3303848</td>\n",
       "      <td>286166</td>\n",
       "      <td>58849</td>\n",
       "      <td>04-DEC-18 08:03:09</td>\n",
       "      <td>23-NOV-18 00:00:003303848</td>\n",
       "    </tr>\n",
       "    <tr>\n",
       "      <th>1</th>\n",
       "      <td>23-NOV-18 00:00:00</td>\n",
       "      <td>3303847</td>\n",
       "      <td>259545</td>\n",
       "      <td>56828</td>\n",
       "      <td>04-DEC-18 08:03:09</td>\n",
       "      <td>23-NOV-18 00:00:003303847</td>\n",
       "    </tr>\n",
       "    <tr>\n",
       "      <th>2</th>\n",
       "      <td>28-FEB-18 00:00:00</td>\n",
       "      <td>2868329</td>\n",
       "      <td>103096</td>\n",
       "      <td>40967</td>\n",
       "      <td>08-MAR-18 10:35:59</td>\n",
       "      <td>28-FEB-18 00:00:002868329</td>\n",
       "    </tr>\n",
       "    <tr>\n",
       "      <th>3</th>\n",
       "      <td>28-FEB-18 00:00:00</td>\n",
       "      <td>2868330</td>\n",
       "      <td>147277</td>\n",
       "      <td>43599</td>\n",
       "      <td>08-MAR-18 10:35:59</td>\n",
       "      <td>28-FEB-18 00:00:002868330</td>\n",
       "    </tr>\n",
       "    <tr>\n",
       "      <th>4</th>\n",
       "      <td>28-FEB-18 00:00:00</td>\n",
       "      <td>2868331</td>\n",
       "      <td>224682</td>\n",
       "      <td>40447</td>\n",
       "      <td>08-MAR-18 10:35:59</td>\n",
       "      <td>28-FEB-18 00:00:002868331</td>\n",
       "    </tr>\n",
       "  </tbody>\n",
       "</table>\n",
       "</div>"
      ],
      "text/plain": [
       "         DAYOFSERVICE  VEHICLEID  DISTANCE  MINUTES          LASTUPDATE  \\\n",
       "0  23-NOV-18 00:00:00    3303848    286166    58849  04-DEC-18 08:03:09   \n",
       "1  23-NOV-18 00:00:00    3303847    259545    56828  04-DEC-18 08:03:09   \n",
       "2  28-FEB-18 00:00:00    2868329    103096    40967  08-MAR-18 10:35:59   \n",
       "3  28-FEB-18 00:00:00    2868330    147277    43599  08-MAR-18 10:35:59   \n",
       "4  28-FEB-18 00:00:00    2868331    224682    40447  08-MAR-18 10:35:59   \n",
       "\n",
       "               PK_4_VehICLES  \n",
       "0  23-NOV-18 00:00:003303848  \n",
       "1  23-NOV-18 00:00:003303847  \n",
       "2  28-FEB-18 00:00:002868329  \n",
       "3  28-FEB-18 00:00:002868330  \n",
       "4  28-FEB-18 00:00:002868331  "
      ]
     },
     "execution_count": 16,
     "metadata": {},
     "output_type": "execute_result"
    }
   ],
   "source": [
    "df_vehicles.head(5)"
   ]
  },
  {
   "cell_type": "code",
   "execution_count": 17,
   "metadata": {},
   "outputs": [
    {
     "name": "stdout",
     "output_type": "stream",
     "text": [
      "(272622, 6)\n"
     ]
    }
   ],
   "source": [
    "update_csv_chunks('/Chunks/vehicles/','chunk_vehicles', chunk_vehicles_list)"
   ]
  },
  {
   "cell_type": "markdown",
   "metadata": {},
   "source": [
    "Converting features into appropriate data types"
   ]
  },
  {
   "cell_type": "code",
   "execution_count": 33,
   "metadata": {},
   "outputs": [],
   "source": [
    "for df in chunk_vehicles_list:\n",
    "    df['DAYOFSERVICE']=df['DAYOFSERVICE'].astype('str')\n",
    "    df['LASTUPDATE']=df['LASTUPDATE'].astype('str')"
   ]
  },
  {
   "cell_type": "code",
   "execution_count": 34,
   "metadata": {},
   "outputs": [],
   "source": [
    "df_vehicles=pd.concat(chunk_vehicles_list, axis=0)"
   ]
  },
  {
   "cell_type": "code",
   "execution_count": 35,
   "metadata": {},
   "outputs": [
    {
     "data": {
      "text/plain": [
       "DAYOFSERVICE       object\n",
       "VEHICLEID        category\n",
       "DISTANCE            int64\n",
       "MINUTES             int64\n",
       "LASTUPDATE         object\n",
       "PK_4_VehICLES      object\n",
       "dtype: object"
      ]
     },
     "execution_count": 35,
     "metadata": {},
     "output_type": "execute_result"
    }
   ],
   "source": [
    "df_vehicles.dtypes"
   ]
  },
  {
   "cell_type": "code",
   "execution_count": 36,
   "metadata": {},
   "outputs": [
    {
     "data": {
      "text/html": [
       "<div>\n",
       "<style scoped>\n",
       "    .dataframe tbody tr th:only-of-type {\n",
       "        vertical-align: middle;\n",
       "    }\n",
       "\n",
       "    .dataframe tbody tr th {\n",
       "        vertical-align: top;\n",
       "    }\n",
       "\n",
       "    .dataframe thead th {\n",
       "        text-align: right;\n",
       "    }\n",
       "</style>\n",
       "<table border=\"1\" class=\"dataframe\">\n",
       "  <thead>\n",
       "    <tr style=\"text-align: right;\">\n",
       "      <th></th>\n",
       "      <th>DAYOFSERVICE</th>\n",
       "      <th>VEHICLEID</th>\n",
       "      <th>DISTANCE</th>\n",
       "      <th>MINUTES</th>\n",
       "      <th>LASTUPDATE</th>\n",
       "      <th>PK_4_VehICLES</th>\n",
       "    </tr>\n",
       "  </thead>\n",
       "  <tbody>\n",
       "    <tr>\n",
       "      <th>0</th>\n",
       "      <td>2018-11-23</td>\n",
       "      <td>3303848</td>\n",
       "      <td>286166</td>\n",
       "      <td>58849</td>\n",
       "      <td>2018-12-04 08:03:09</td>\n",
       "      <td>23-NOV-18 00:00:003303848</td>\n",
       "    </tr>\n",
       "    <tr>\n",
       "      <th>1</th>\n",
       "      <td>2018-11-23</td>\n",
       "      <td>3303847</td>\n",
       "      <td>259545</td>\n",
       "      <td>56828</td>\n",
       "      <td>2018-12-04 08:03:09</td>\n",
       "      <td>23-NOV-18 00:00:003303847</td>\n",
       "    </tr>\n",
       "    <tr>\n",
       "      <th>2</th>\n",
       "      <td>2018-02-28</td>\n",
       "      <td>2868329</td>\n",
       "      <td>103096</td>\n",
       "      <td>40967</td>\n",
       "      <td>2018-03-08 10:35:59</td>\n",
       "      <td>28-FEB-18 00:00:002868329</td>\n",
       "    </tr>\n",
       "    <tr>\n",
       "      <th>3</th>\n",
       "      <td>2018-02-28</td>\n",
       "      <td>2868330</td>\n",
       "      <td>147277</td>\n",
       "      <td>43599</td>\n",
       "      <td>2018-03-08 10:35:59</td>\n",
       "      <td>28-FEB-18 00:00:002868330</td>\n",
       "    </tr>\n",
       "    <tr>\n",
       "      <th>4</th>\n",
       "      <td>2018-02-28</td>\n",
       "      <td>2868331</td>\n",
       "      <td>224682</td>\n",
       "      <td>40447</td>\n",
       "      <td>2018-03-08 10:35:59</td>\n",
       "      <td>28-FEB-18 00:00:002868331</td>\n",
       "    </tr>\n",
       "  </tbody>\n",
       "</table>\n",
       "</div>"
      ],
      "text/plain": [
       "  DAYOFSERVICE VEHICLEID  DISTANCE  MINUTES           LASTUPDATE  \\\n",
       "0   2018-11-23   3303848    286166    58849  2018-12-04 08:03:09   \n",
       "1   2018-11-23   3303847    259545    56828  2018-12-04 08:03:09   \n",
       "2   2018-02-28   2868329    103096    40967  2018-03-08 10:35:59   \n",
       "3   2018-02-28   2868330    147277    43599  2018-03-08 10:35:59   \n",
       "4   2018-02-28   2868331    224682    40447  2018-03-08 10:35:59   \n",
       "\n",
       "               PK_4_VehICLES  \n",
       "0  23-NOV-18 00:00:003303848  \n",
       "1  23-NOV-18 00:00:003303847  \n",
       "2  28-FEB-18 00:00:002868329  \n",
       "3  28-FEB-18 00:00:002868330  \n",
       "4  28-FEB-18 00:00:002868331  "
      ]
     },
     "execution_count": 36,
     "metadata": {},
     "output_type": "execute_result"
    }
   ],
   "source": [
    "df_vehicles.head(5)"
   ]
  },
  {
   "cell_type": "code",
   "execution_count": 37,
   "metadata": {},
   "outputs": [],
   "source": [
    "def vehicles_list_dtype_converter(df):\n",
    "    df['DAYOFSERVICE'] =  pd.to_datetime(df['DAYOFSERVICE'], format=\"%Y-%m-%d %H:%M:%S\")\n",
    "    df['VEHICLEID']=df['VEHICLEID'].astype('category')\n",
    "    df['DISTANCE']=df['DISTANCE'].astype('int64')\n",
    "    df['MINUTES']=df['MINUTES'].astype('int64')\n",
    "    df['LASTUPDATE'] =  pd.to_datetime(df['LASTUPDATE'], format=\"%Y-%m-%d %H:%M:%S\")\n",
    "    df['PK_4_VehICLES']=df['PK_4_VehICLES'].astype('str')\n",
    "    print(df.dtypes)\n",
    "    return df"
   ]
  },
  {
   "cell_type": "code",
   "execution_count": 38,
   "metadata": {
    "scrolled": false
   },
   "outputs": [
    {
     "name": "stdout",
     "output_type": "stream",
     "text": [
      "DAYOFSERVICE     datetime64[ns]\n",
      "VEHICLEID              category\n",
      "DISTANCE                  int64\n",
      "MINUTES                   int64\n",
      "LASTUPDATE       datetime64[ns]\n",
      "PK_4_VehICLES            object\n",
      "dtype: object\n"
     ]
    }
   ],
   "source": [
    "chunk_vehicles_list=map(vehicles_list_dtype_converter,chunk_vehicles_list)"
   ]
  }
 ],
 "metadata": {
  "kernelspec": {
   "display_name": "Python 3",
   "language": "python",
   "name": "python3"
  },
  "language_info": {
   "codemirror_mode": {
    "name": "ipython",
    "version": 2
   },
   "file_extension": ".py",
   "mimetype": "text/x-python",
   "name": "python",
   "nbconvert_exporter": "python",
   "pygments_lexer": "ipython2",
   "version": "2.7.17"
  }
 },
 "nbformat": 4,
 "nbformat_minor": 2
}
