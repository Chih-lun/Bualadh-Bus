{
 "cells": [
  {
   "cell_type": "code",
   "execution_count": 2,
   "id": "9a373805",
   "metadata": {},
   "outputs": [],
   "source": [
    "#libs for mysql connect\n",
    "from sqlalchemy import create_engine\n",
    "import credentials\n",
    "#Import package pandas for data analysis\n",
    "import pandas as pd\n",
    "# Import package numpy for numeric computing\n",
    "import numpy as np\n",
    "from numpy import int64\n",
    "from numpy import float64\n",
    "from numpy import datetime64\n",
    "# Date/time functionality\n",
    "import datetime\n",
    "import time\n",
    "# Check if files exist\n",
    "from os.path import exists\n",
    "from os import makedirs\n",
    "# System specific parameters and functions\n",
    "import sys\n",
    "import shutil\n",
    "import os\n",
    "import glob"
   ]
  },
  {
   "cell_type": "markdown",
   "id": "b59d2325",
   "metadata": {},
   "source": [
    "Cleaning tables"
   ]
  },
  {
   "cell_type": "code",
   "execution_count": 2,
   "id": "7fe66bf4",
   "metadata": {},
   "outputs": [],
   "source": [
    "dtypes={'ROUTEID':'category', 'Beginning_stop':'category','Ending_stop':'category', 'Weight':'float64' }\n",
    "df_ssp_table = pd.read_csv('stop_point_pair_vs_routeid.csv')"
   ]
  },
  {
   "cell_type": "code",
   "execution_count": 3,
   "id": "ca2305f7",
   "metadata": {},
   "outputs": [
    {
     "data": {
      "text/html": [
       "<div>\n",
       "<style scoped>\n",
       "    .dataframe tbody tr th:only-of-type {\n",
       "        vertical-align: middle;\n",
       "    }\n",
       "\n",
       "    .dataframe tbody tr th {\n",
       "        vertical-align: top;\n",
       "    }\n",
       "\n",
       "    .dataframe thead th {\n",
       "        text-align: right;\n",
       "    }\n",
       "</style>\n",
       "<table border=\"1\" class=\"dataframe\">\n",
       "  <thead>\n",
       "    <tr style=\"text-align: right;\">\n",
       "      <th></th>\n",
       "      <th>ROUTEID</th>\n",
       "      <th>Beginning_stop</th>\n",
       "      <th>Ending_stop</th>\n",
       "      <th>Weight</th>\n",
       "    </tr>\n",
       "  </thead>\n",
       "  <tbody>\n",
       "    <tr>\n",
       "      <th>0</th>\n",
       "      <td>18_3</td>\n",
       "      <td>4359</td>\n",
       "      <td>4360</td>\n",
       "      <td>0.006136</td>\n",
       "    </tr>\n",
       "    <tr>\n",
       "      <th>1</th>\n",
       "      <td>18_3</td>\n",
       "      <td>4359</td>\n",
       "      <td>4361</td>\n",
       "      <td>0.006136</td>\n",
       "    </tr>\n",
       "  </tbody>\n",
       "</table>\n",
       "</div>"
      ],
      "text/plain": [
       "  ROUTEID  Beginning_stop  Ending_stop    Weight\n",
       "0    18_3            4359         4360  0.006136\n",
       "1    18_3            4359         4361  0.006136"
      ]
     },
     "execution_count": 3,
     "metadata": {},
     "output_type": "execute_result"
    }
   ],
   "source": [
    "df_ssp_table.head(2)"
   ]
  },
  {
   "cell_type": "code",
   "execution_count": 3,
   "id": "a64148f6",
   "metadata": {},
   "outputs": [],
   "source": [
    "home_path=os.path.normpath(os.getcwd() + os.sep + os.pardir)\n",
    "df_tt_table=pd.read_csv(home_path+'/Lorna/timetables/timetables.csv')"
   ]
  },
  {
   "cell_type": "code",
   "execution_count": 5,
   "id": "fd4c2d7d",
   "metadata": {},
   "outputs": [
    {
     "data": {
      "text/html": [
       "<div>\n",
       "<style scoped>\n",
       "    .dataframe tbody tr th:only-of-type {\n",
       "        vertical-align: middle;\n",
       "    }\n",
       "\n",
       "    .dataframe tbody tr th {\n",
       "        vertical-align: top;\n",
       "    }\n",
       "\n",
       "    .dataframe thead th {\n",
       "        text-align: right;\n",
       "    }\n",
       "</style>\n",
       "<table border=\"1\" class=\"dataframe\">\n",
       "  <thead>\n",
       "    <tr style=\"text-align: right;\">\n",
       "      <th></th>\n",
       "      <th>ROUTEID</th>\n",
       "      <th>DAY_OF_WEEK</th>\n",
       "      <th>STOPPOINTID</th>\n",
       "      <th>PLANNEDTIME_DEP_R_M5</th>\n",
       "      <th>TRIPS_TIME_PROPORTION_v2</th>\n",
       "      <th>PLANNEDTIME_DEP</th>\n",
       "    </tr>\n",
       "  </thead>\n",
       "  <tbody>\n",
       "    <tr>\n",
       "      <th>0</th>\n",
       "      <td>41B_52</td>\n",
       "      <td>Tuesday</td>\n",
       "      <td>1171</td>\n",
       "      <td>06:30</td>\n",
       "      <td>0.029360</td>\n",
       "      <td>23455</td>\n",
       "    </tr>\n",
       "    <tr>\n",
       "      <th>1</th>\n",
       "      <td>41B_52</td>\n",
       "      <td>Tuesday</td>\n",
       "      <td>1171</td>\n",
       "      <td>11:35</td>\n",
       "      <td>0.061684</td>\n",
       "      <td>41784</td>\n",
       "    </tr>\n",
       "  </tbody>\n",
       "</table>\n",
       "</div>"
      ],
      "text/plain": [
       "  ROUTEID DAY_OF_WEEK  STOPPOINTID PLANNEDTIME_DEP_R_M5  \\\n",
       "0  41B_52     Tuesday         1171                06:30   \n",
       "1  41B_52     Tuesday         1171                11:35   \n",
       "\n",
       "   TRIPS_TIME_PROPORTION_v2  PLANNEDTIME_DEP  \n",
       "0                  0.029360            23455  \n",
       "1                  0.061684            41784  "
      ]
     },
     "execution_count": 5,
     "metadata": {},
     "output_type": "execute_result"
    }
   ],
   "source": [
    "df_tt_table.head(2)"
   ]
  },
  {
   "cell_type": "code",
   "execution_count": 4,
   "id": "0eb24376",
   "metadata": {},
   "outputs": [],
   "source": [
    "df_ft_table=pd.read_csv(home_path+'/Lorna/FeatureSelection/feature_selection_cor01.csv')"
   ]
  },
  {
   "cell_type": "code",
   "execution_count": 5,
   "id": "0a4a3b4e",
   "metadata": {},
   "outputs": [
    {
     "data": {
      "text/html": [
       "<div>\n",
       "<style scoped>\n",
       "    .dataframe tbody tr th:only-of-type {\n",
       "        vertical-align: middle;\n",
       "    }\n",
       "\n",
       "    .dataframe tbody tr th {\n",
       "        vertical-align: top;\n",
       "    }\n",
       "\n",
       "    .dataframe thead th {\n",
       "        text-align: right;\n",
       "    }\n",
       "</style>\n",
       "<table border=\"1\" class=\"dataframe\">\n",
       "  <thead>\n",
       "    <tr style=\"text-align: right;\">\n",
       "      <th></th>\n",
       "      <th>PLANNEDTIME_DEP</th>\n",
       "      <th>ROUTEID</th>\n",
       "      <th>TOTAL_JOURNEY_TIME</th>\n",
       "      <th>rain</th>\n",
       "      <th>temp</th>\n",
       "      <th>dew_pt_temp(C)</th>\n",
       "      <th>humidity(%)</th>\n",
       "      <th>sea_lvl_pressure(hPa)</th>\n",
       "      <th>sin_hour_of_day</th>\n",
       "      <th>cos_hour_of_day</th>\n",
       "      <th>friday</th>\n",
       "      <th>monday</th>\n",
       "      <th>saturday</th>\n",
       "      <th>sunday</th>\n",
       "      <th>thursday</th>\n",
       "      <th>tuesday</th>\n",
       "      <th>wednesday</th>\n",
       "    </tr>\n",
       "  </thead>\n",
       "  <tbody>\n",
       "    <tr>\n",
       "      <th>0</th>\n",
       "      <td>1</td>\n",
       "      <td>18_3</td>\n",
       "      <td>1</td>\n",
       "      <td>0</td>\n",
       "      <td>0</td>\n",
       "      <td>0</td>\n",
       "      <td>0</td>\n",
       "      <td>0</td>\n",
       "      <td>1</td>\n",
       "      <td>1</td>\n",
       "      <td>1</td>\n",
       "      <td>0</td>\n",
       "      <td>1</td>\n",
       "      <td>1</td>\n",
       "      <td>1</td>\n",
       "      <td>1</td>\n",
       "      <td>1</td>\n",
       "    </tr>\n",
       "    <tr>\n",
       "      <th>1</th>\n",
       "      <td>1</td>\n",
       "      <td>67_6</td>\n",
       "      <td>1</td>\n",
       "      <td>0</td>\n",
       "      <td>1</td>\n",
       "      <td>0</td>\n",
       "      <td>1</td>\n",
       "      <td>0</td>\n",
       "      <td>1</td>\n",
       "      <td>1</td>\n",
       "      <td>1</td>\n",
       "      <td>0</td>\n",
       "      <td>1</td>\n",
       "      <td>1</td>\n",
       "      <td>1</td>\n",
       "      <td>1</td>\n",
       "      <td>1</td>\n",
       "    </tr>\n",
       "  </tbody>\n",
       "</table>\n",
       "</div>"
      ],
      "text/plain": [
       "   PLANNEDTIME_DEP ROUTEID  TOTAL_JOURNEY_TIME  rain  temp  dew_pt_temp(C)  \\\n",
       "0                1    18_3                   1     0     0               0   \n",
       "1                1    67_6                   1     0     1               0   \n",
       "\n",
       "   humidity(%)  sea_lvl_pressure(hPa)  sin_hour_of_day  cos_hour_of_day  \\\n",
       "0            0                      0                1                1   \n",
       "1            1                      0                1                1   \n",
       "\n",
       "   friday  monday  saturday  sunday  thursday  tuesday  wednesday  \n",
       "0       1       0         1       1         1        1          1  \n",
       "1       1       0         1       1         1        1          1  "
      ]
     },
     "execution_count": 5,
     "metadata": {},
     "output_type": "execute_result"
    }
   ],
   "source": [
    "df_ft_table.head(2)"
   ]
  },
  {
   "cell_type": "code",
   "execution_count": 6,
   "id": "c4f9f427",
   "metadata": {},
   "outputs": [],
   "source": [
    " ROUTEID_drop_df= pd.read_csv('ML_route_bel_tres_R2_cor01_df.csv')"
   ]
  },
  {
   "cell_type": "code",
   "execution_count": 7,
   "id": "2a8a7b84",
   "metadata": {},
   "outputs": [
    {
     "data": {
      "text/html": [
       "<div>\n",
       "<style scoped>\n",
       "    .dataframe tbody tr th:only-of-type {\n",
       "        vertical-align: middle;\n",
       "    }\n",
       "\n",
       "    .dataframe tbody tr th {\n",
       "        vertical-align: top;\n",
       "    }\n",
       "\n",
       "    .dataframe thead th {\n",
       "        text-align: right;\n",
       "    }\n",
       "</style>\n",
       "<table border=\"1\" class=\"dataframe\">\n",
       "  <thead>\n",
       "    <tr style=\"text-align: right;\">\n",
       "      <th></th>\n",
       "      <th>ROUTEID</th>\n",
       "      <th>R2</th>\n",
       "    </tr>\n",
       "  </thead>\n",
       "  <tbody>\n",
       "    <tr>\n",
       "      <th>0</th>\n",
       "      <td>111_9</td>\n",
       "      <td>-0.026251</td>\n",
       "    </tr>\n",
       "    <tr>\n",
       "      <th>1</th>\n",
       "      <td>13_73</td>\n",
       "      <td>0.041089</td>\n",
       "    </tr>\n",
       "  </tbody>\n",
       "</table>\n",
       "</div>"
      ],
      "text/plain": [
       "  ROUTEID        R2\n",
       "0   111_9 -0.026251\n",
       "1   13_73  0.041089"
      ]
     },
     "execution_count": 7,
     "metadata": {},
     "output_type": "execute_result"
    }
   ],
   "source": [
    " ROUTEID_drop_df.head(2)"
   ]
  },
  {
   "cell_type": "code",
   "execution_count": 8,
   "id": "6ef9a0df",
   "metadata": {
    "scrolled": true
   },
   "outputs": [
    {
     "data": {
      "text/plain": [
       "array(['111_9', '13_73', '17A_13', '185_51', '185_52', '185_53', '185_55',\n",
       "       '185_57', '185_59', '185_60', '25D_275', '25D_277', '27B_40',\n",
       "       '33B_58', '33X_46', '38A_33', '40D_101', '40E_91', '44B_61',\n",
       "       '47_135', '53_23', '68_79', '68_85', '7B_91', '83_25', '84A_3',\n",
       "       '84X_57'], dtype=object)"
      ]
     },
     "execution_count": 8,
     "metadata": {},
     "output_type": "execute_result"
    }
   ],
   "source": [
    "ROUTEID_drop_list= ROUTEID_drop_df['ROUTEID'].values\n",
    "ROUTEID_drop_list"
   ]
  },
  {
   "cell_type": "code",
   "execution_count": 9,
   "id": "e1c0cbe1",
   "metadata": {},
   "outputs": [
    {
     "name": "stdout",
     "output_type": "stream",
     "text": [
      "Before dropping df_ssp_table  483218  df_tt_table  2307034\n",
      "After dropping df_ssp_table  455817  df_tt_table  2263084\n"
     ]
    }
   ],
   "source": [
    "print(\"Before dropping df_ssp_table \", df_ssp_table.shape[0], \" df_tt_table \", df_tt_table.shape[0] )\n",
    "for ROUTE_ID in ROUTEID_drop_list:\n",
    "    df_ssp_table.drop(df_ssp_table[df_ssp_table.ROUTEID == ROUTE_ID].index, inplace=True)\n",
    "    df_tt_table.drop(df_tt_table[df_tt_table.ROUTEID == ROUTE_ID].index, inplace=True)\n",
    "print(\"After dropping df_ssp_table \", df_ssp_table.shape[0], \" df_tt_table \", df_tt_table.shape[0] )"
   ]
  },
  {
   "cell_type": "markdown",
   "id": "1f282ac1",
   "metadata": {},
   "source": [
    "Writing table to mysql db"
   ]
  },
  {
   "cell_type": "code",
   "execution_count": 6,
   "id": "593fb72c",
   "metadata": {},
   "outputs": [],
   "source": [
    "def get_engine():\n",
    "    '''Used to create the engine, selects production or test database depending on requirement'''\n",
    "    db_name = credentials.db_database \n",
    "    uri = credentials.db_uri\n",
    "    user = credentials.db_user\n",
    "    password = credentials.db_password\n",
    "    port = credentials.db_port\n",
    "    return create_engine(f\"mysql+pymysql://{user}:{password}@{uri}:{port}/{db_name}\",echo=True)"
   ]
  },
  {
   "cell_type": "code",
   "execution_count": 7,
   "id": "9b5883f2",
   "metadata": {},
   "outputs": [],
   "source": [
    "def add_tables(df_tables,table_names):\n",
    "    engine = get_engine()\n",
    "    for i in range(len(df_tables)):\n",
    "        df_tables[i].to_sql(table_names[i], con=engine)\n",
    "        engine.execute(\"SELECT * FROM \"+table_names[i]).fetchall()"
   ]
  },
  {
   "cell_type": "code",
   "execution_count": 13,
   "id": "2186a42e",
   "metadata": {
    "scrolled": true
   },
   "outputs": [
    {
     "name": "stdout",
     "output_type": "stream",
     "text": [
      "2022-07-15 01:39:48,393 INFO sqlalchemy.engine.Engine SELECT DATABASE()\n",
      "2022-07-15 01:39:48,394 INFO sqlalchemy.engine.Engine [raw sql] {}\n",
      "2022-07-15 01:39:48,569 INFO sqlalchemy.engine.Engine SELECT @@sql_mode\n",
      "2022-07-15 01:39:48,570 INFO sqlalchemy.engine.Engine [raw sql] {}\n",
      "2022-07-15 01:39:48,657 INFO sqlalchemy.engine.Engine SELECT @@lower_case_table_names\n",
      "2022-07-15 01:39:48,658 INFO sqlalchemy.engine.Engine [raw sql] {}\n",
      "2022-07-15 01:39:48,920 INFO sqlalchemy.engine.Engine SELECT COUNT(*) FROM information_schema.tables WHERE table_schema = %(table_schema)s AND table_name = %(table_name)s\n",
      "2022-07-15 01:39:48,921 INFO sqlalchemy.engine.Engine [generated in 0.00106s] {'table_schema': 'static_tables', 'table_name': 'STOPPOINTID_pairs_vs_ROUTEID'}\n",
      "2022-07-15 01:39:49,164 INFO sqlalchemy.engine.Engine BEGIN (implicit)\n",
      "2022-07-15 01:39:49,165 INFO sqlalchemy.engine.Engine \n",
      "CREATE TABLE `STOPPOINTID_pairs_vs_ROUTEID` (\n",
      "\t`index` BIGINT, \n",
      "\t`ROUTEID` TEXT, \n",
      "\t`Beginning_stop` BIGINT, \n",
      "\t`Ending_stop` BIGINT, \n",
      "\t`Weight` FLOAT(53)\n",
      ")\n",
      "\n",
      "\n",
      "2022-07-15 01:39:49,166 INFO sqlalchemy.engine.Engine [no key 0.00075s] {}\n",
      "2022-07-15 01:39:49,328 INFO sqlalchemy.engine.Engine CREATE INDEX `ix_STOPPOINTID_pairs_vs_ROUTEID_index` ON `STOPPOINTID_pairs_vs_ROUTEID` (`index`)\n",
      "2022-07-15 01:39:49,329 INFO sqlalchemy.engine.Engine [no key 0.00099s] {}\n",
      "2022-07-15 01:39:49,489 INFO sqlalchemy.engine.Engine COMMIT\n",
      "2022-07-15 01:39:49,772 INFO sqlalchemy.engine.Engine BEGIN (implicit)\n",
      "2022-07-15 01:39:52,868 INFO sqlalchemy.engine.Engine INSERT INTO `STOPPOINTID_pairs_vs_ROUTEID` (`index`, `ROUTEID`, `Beginning_stop`, `Ending_stop`, `Weight`) VALUES (%(index)s, %(ROUTEID)s, %(Beginning_stop)s, %(Ending_stop)s, %(Weight)s)\n",
      "2022-07-15 01:39:52,869 INFO sqlalchemy.engine.Engine [generated in 2.60313s] ({'index': 0, 'ROUTEID': '18_3', 'Beginning_stop': 4359, 'Ending_stop': 4360, 'Weight': 0.0061359817806606}, {'index': 1, 'ROUTEID': '18_3', 'Beginning_stop': 4359, 'Ending_stop': 4361, 'Weight': 0.0061359817806606}, {'index': 2, 'ROUTEID': '18_3', 'Beginning_stop': 4359, 'Ending_stop': 2202, 'Weight': 0.0061359817806606}, {'index': 3, 'ROUTEID': '18_3', 'Beginning_stop': 4359, 'Ending_stop': 2203, 'Weight': 0.0061359817806606}, {'index': 4, 'ROUTEID': '18_3', 'Beginning_stop': 4359, 'Ending_stop': 2204, 'Weight': 0.0061359817806606}, {'index': 5, 'ROUTEID': '18_3', 'Beginning_stop': 4359, 'Ending_stop': 4888, 'Weight': 0.0061359817806606}, {'index': 6, 'ROUTEID': '18_3', 'Beginning_stop': 4359, 'Ending_stop': 4799, 'Weight': 0.0061359817806606}, {'index': 7, 'ROUTEID': '18_3', 'Beginning_stop': 4359, 'Ending_stop': 2205, 'Weight': 0.0061359817806606}  ... displaying 10 of 455817 total bound parameter sets ...  {'index': 483216, 'ROUTEID': '40D_103', 'Beginning_stop': 52, 'Ending_stop': 6071, 'Weight': 0.0032125888216368}, {'index': 483217, 'ROUTEID': '40D_103', 'Beginning_stop': 4725, 'Ending_stop': 6071, 'Weight': 0.0032125888216368})\n",
      "2022-07-15 01:40:09,009 INFO sqlalchemy.engine.Engine COMMIT\n",
      "2022-07-15 01:40:09,299 INFO sqlalchemy.engine.Engine SHOW FULL TABLES FROM `static_tables`\n",
      "2022-07-15 01:40:09,300 INFO sqlalchemy.engine.Engine [raw sql] {}\n",
      "2022-07-15 01:40:09,476 INFO sqlalchemy.engine.Engine SELECT * FROM STOPPOINTID_pairs_vs_ROUTEID\n",
      "2022-07-15 01:40:09,477 INFO sqlalchemy.engine.Engine [raw sql] {}\n",
      "2022-07-15 01:40:18,788 INFO sqlalchemy.engine.Engine SELECT COUNT(*) FROM information_schema.tables WHERE table_schema = %(table_schema)s AND table_name = %(table_name)s\n",
      "2022-07-15 01:40:18,789 INFO sqlalchemy.engine.Engine [cached since 29.87s ago] {'table_schema': 'static_tables', 'table_name': 'timetables'}\n",
      "2022-07-15 01:40:18,964 INFO sqlalchemy.engine.Engine BEGIN (implicit)\n",
      "2022-07-15 01:40:18,966 INFO sqlalchemy.engine.Engine \n",
      "CREATE TABLE timetables (\n",
      "\t`index` BIGINT, \n",
      "\t`ROUTEID` TEXT, \n",
      "\t`DAY_OF_WEEK` TEXT, \n",
      "\t`STOPPOINTID` BIGINT, \n",
      "\t`PLANNEDTIME_DEP_R_M5` TEXT, \n",
      "\t`TRIPS_TIME_PROPORTION_v2` FLOAT(53), \n",
      "\t`PLANNEDTIME_DEP` BIGINT\n",
      ")\n",
      "\n",
      "\n",
      "2022-07-15 01:40:18,966 INFO sqlalchemy.engine.Engine [no key 0.00065s] {}\n",
      "2022-07-15 01:40:19,136 INFO sqlalchemy.engine.Engine CREATE INDEX ix_timetables_index ON timetables (`index`)\n",
      "2022-07-15 01:40:19,138 INFO sqlalchemy.engine.Engine [no key 0.00116s] {}\n",
      "2022-07-15 01:40:19,263 INFO sqlalchemy.engine.Engine COMMIT\n",
      "2022-07-15 01:40:20,291 INFO sqlalchemy.engine.Engine BEGIN (implicit)\n",
      "2022-07-15 01:40:42,059 INFO sqlalchemy.engine.Engine INSERT INTO timetables (`index`, `ROUTEID`, `DAY_OF_WEEK`, `STOPPOINTID`, `PLANNEDTIME_DEP_R_M5`, `TRIPS_TIME_PROPORTION_v2`, `PLANNEDTIME_DEP`) VALUES (%(index)s, %(ROUTEID)s, %(DAY_OF_WEEK)s, %(STOPPOINTID)s, %(PLANNEDTIME_DEP_R_M5)s, %(TRIPS_TIME_PROPORTION_v2)s, %(PLANNEDTIME_DEP)s)\n",
      "2022-07-15 01:40:42,060 INFO sqlalchemy.engine.Engine [generated in 18.95776s] ({'index': 0, 'ROUTEID': '41B_52', 'DAY_OF_WEEK': 'Tuesday', 'STOPPOINTID': 1171, 'PLANNEDTIME_DEP_R_M5': '06:30', 'TRIPS_TIME_PROPORTION_v2': 0.029359937, 'PLANNEDTIME_DEP': 23455}, {'index': 1, 'ROUTEID': '41B_52', 'DAY_OF_WEEK': 'Tuesday', 'STOPPOINTID': 1171, 'PLANNEDTIME_DEP_R_M5': '11:35', 'TRIPS_TIME_PROPORTION_v2': 0.06168419, 'PLANNEDTIME_DEP': 41784}, {'index': 2, 'ROUTEID': '41B_52', 'DAY_OF_WEEK': 'Tuesday', 'STOPPOINTID': 1171, 'PLANNEDTIME_DEP_R_M5': '16:25', 'TRIPS_TIME_PROPORTION_v2': 0.019251168, 'PLANNEDTIME_DEP': 59165}, {'index': 3, 'ROUTEID': '41B_52', 'DAY_OF_WEEK': 'Tuesday', 'STOPPOINTID': 1171, 'PLANNEDTIME_DEP_R_M5': '18:30', 'TRIPS_TIME_PROPORTION_v2': 0.021336675, 'PLANNEDTIME_DEP': 66677}, {'index': 4, 'ROUTEID': '41B_52', 'DAY_OF_WEEK': 'Tuesday', 'STOPPOINTID': 1171, 'PLANNEDTIME_DEP_R_M5': '23:15', 'TRIPS_TIME_PROPORTION_v2': 0.035816114, 'PLANNEDTIME_DEP': 83768}, {'index': 5, 'ROUTEID': '41B_52', 'DAY_OF_WEEK': 'Tuesday', 'STOPPOINTID': 1172, 'PLANNEDTIME_DEP_R_M5': '06:30', 'TRIPS_TIME_PROPORTION_v2': 0.043746352, 'PLANNEDTIME_DEP': 23498}, {'index': 6, 'ROUTEID': '41B_52', 'DAY_OF_WEEK': 'Tuesday', 'STOPPOINTID': 1172, 'PLANNEDTIME_DEP_R_M5': '11:35', 'TRIPS_TIME_PROPORTION_v2': 0.08021051, 'PLANNEDTIME_DEP': 41849}, {'index': 7, 'ROUTEID': '41B_52', 'DAY_OF_WEEK': 'Tuesday', 'STOPPOINTID': 1172, 'PLANNEDTIME_DEP_R_M5': '16:25', 'TRIPS_TIME_PROPORTION_v2': 0.03542149, 'PLANNEDTIME_DEP': 59232}  ... displaying 10 of 2263084 total bound parameter sets ...  {'index': 2307032, 'ROUTEID': '17_10', 'DAY_OF_WEEK': 'Tuesday', 'STOPPOINTID': 866, 'PLANNEDTIME_DEP_R_M5': '22:40', 'TRIPS_TIME_PROPORTION_v2': 0.5362218, 'PLANNEDTIME_DEP': 81704}, {'index': 2307033, 'ROUTEID': '17_10', 'DAY_OF_WEEK': 'Tuesday', 'STOPPOINTID': 866, 'PLANNEDTIME_DEP_R_M5': '22:45', 'TRIPS_TIME_PROPORTION_v2': 0.5485027, 'PLANNEDTIME_DEP': 81838})\n",
      "2022-07-15 01:42:29,134 INFO sqlalchemy.engine.Engine COMMIT\n",
      "2022-07-15 01:42:30,955 INFO sqlalchemy.engine.Engine SELECT * FROM timetables\n",
      "2022-07-15 01:42:30,957 INFO sqlalchemy.engine.Engine [raw sql] {}\n"
     ]
    }
   ],
   "source": [
    "add_tables([df_ssp_table,df_tt_table],['STOPPOINTID_pairs_vs_ROUTEID','timetables'])"
   ]
  },
  {
   "cell_type": "code",
   "execution_count": 8,
   "id": "8a382b9b",
   "metadata": {
    "scrolled": true
   },
   "outputs": [
    {
     "name": "stdout",
     "output_type": "stream",
     "text": [
      "2022-07-15 14:16:38,797 INFO sqlalchemy.engine.Engine SELECT DATABASE()\n",
      "2022-07-15 14:16:38,799 INFO sqlalchemy.engine.Engine [raw sql] {}\n",
      "2022-07-15 14:16:38,970 INFO sqlalchemy.engine.Engine SELECT @@sql_mode\n",
      "2022-07-15 14:16:38,971 INFO sqlalchemy.engine.Engine [raw sql] {}\n",
      "2022-07-15 14:16:39,056 INFO sqlalchemy.engine.Engine SELECT @@lower_case_table_names\n",
      "2022-07-15 14:16:39,057 INFO sqlalchemy.engine.Engine [raw sql] {}\n",
      "2022-07-15 14:16:39,314 INFO sqlalchemy.engine.Engine SELECT COUNT(*) FROM information_schema.tables WHERE table_schema = %(table_schema)s AND table_name = %(table_name)s\n",
      "2022-07-15 14:16:39,315 INFO sqlalchemy.engine.Engine [generated in 0.00095s] {'table_schema': 'static_tables', 'table_name': 'feature_selection'}\n",
      "2022-07-15 14:16:39,496 INFO sqlalchemy.engine.Engine BEGIN (implicit)\n",
      "2022-07-15 14:16:39,498 INFO sqlalchemy.engine.Engine \n",
      "CREATE TABLE feature_selection (\n",
      "\t`index` BIGINT, \n",
      "\t`PLANNEDTIME_DEP` BIGINT, \n",
      "\t`ROUTEID` TEXT, \n",
      "\t`TOTAL_JOURNEY_TIME` BIGINT, \n",
      "\train BIGINT, \n",
      "\ttemp BIGINT, \n",
      "\t`dew_pt_temp(C)` BIGINT, \n",
      "\t`humidity(%%)` BIGINT, \n",
      "\t`sea_lvl_pressure(hPa)` BIGINT, \n",
      "\tsin_hour_of_day BIGINT, \n",
      "\tcos_hour_of_day BIGINT, \n",
      "\tfriday BIGINT, \n",
      "\tmonday BIGINT, \n",
      "\tsaturday BIGINT, \n",
      "\tsunday BIGINT, \n",
      "\tthursday BIGINT, \n",
      "\ttuesday BIGINT, \n",
      "\twednesday BIGINT\n",
      ")\n",
      "\n",
      "\n",
      "2022-07-15 14:16:39,499 INFO sqlalchemy.engine.Engine [no key 0.00063s] {}\n",
      "2022-07-15 14:16:39,770 INFO sqlalchemy.engine.Engine CREATE INDEX ix_feature_selection_index ON feature_selection (`index`)\n",
      "2022-07-15 14:16:39,771 INFO sqlalchemy.engine.Engine [no key 0.00132s] {}\n",
      "2022-07-15 14:16:39,951 INFO sqlalchemy.engine.Engine COMMIT\n",
      "2022-07-15 14:16:40,130 INFO sqlalchemy.engine.Engine BEGIN (implicit)\n",
      "2022-07-15 14:16:40,136 INFO sqlalchemy.engine.Engine INSERT INTO feature_selection (`index`, `PLANNEDTIME_DEP`, `ROUTEID`, `TOTAL_JOURNEY_TIME`, rain, temp, `dew_pt_temp(C)`, `humidity(%%)`, `sea_lvl_pressure(hPa)`, sin_hour_of_day, cos_hour_of_day, friday, monday, saturday, sunday, thursday, tuesday, wednesday) VALUES (%(index)s, %(PLANNEDTIME_DEP)s, %(ROUTEID)s, %(TOTAL_JOURNEY_TIME)s, %(rain)s, %(temp)s, %(dew_pt_tempACZ)s, %(humidityAPZ)s, %(sea_lvl_pressureAhPaZ)s, %(sin_hour_of_day)s, %(cos_hour_of_day)s, %(friday)s, %(monday)s, %(saturday)s, %(sunday)s, %(thursday)s, %(tuesday)s, %(wednesday)s)\n",
      "2022-07-15 14:16:40,137 INFO sqlalchemy.engine.Engine [generated in 0.00476s] ({'index': 0, 'PLANNEDTIME_DEP': 1, 'ROUTEID': '18_3', 'TOTAL_JOURNEY_TIME': 1, 'rain': 0, 'temp': 0, 'dew_pt_tempACZ': 0, 'humidityAPZ': 0, 'sea_lvl_pressureAhPaZ': 0, 'sin_hour_of_day': 1, 'cos_hour_of_day': 1, 'friday': 1, 'monday': 0, 'saturday': 1, 'sunday': 1, 'thursday': 1, 'tuesday': 1, 'wednesday': 1}, {'index': 1, 'PLANNEDTIME_DEP': 1, 'ROUTEID': '67_6', 'TOTAL_JOURNEY_TIME': 1, 'rain': 0, 'temp': 1, 'dew_pt_tempACZ': 0, 'humidityAPZ': 1, 'sea_lvl_pressureAhPaZ': 0, 'sin_hour_of_day': 1, 'cos_hour_of_day': 1, 'friday': 1, 'monday': 0, 'saturday': 1, 'sunday': 1, 'thursday': 1, 'tuesday': 1, 'wednesday': 1}, {'index': 2, 'PLANNEDTIME_DEP': 0, 'ROUTEID': '142_9', 'TOTAL_JOURNEY_TIME': 1, 'rain': 0, 'temp': 1, 'dew_pt_tempACZ': 0, 'humidityAPZ': 1, 'sea_lvl_pressureAhPaZ': 1, 'sin_hour_of_day': 1, 'cos_hour_of_day': 1, 'friday': 1, 'monday': 0, 'saturday': 0, 'sunday': 0, 'thursday': 0, 'tuesday': 0, 'wednesday': 0}, {'index': 3, 'PLANNEDTIME_DEP': 1, 'ROUTEID': '17_16', 'TOTAL_JOURNEY_TIME': 1, 'rain': 0, 'temp': 1, 'dew_pt_tempACZ': 0, 'humidityAPZ': 1, 'sea_lvl_pressureAhPaZ': 0, 'sin_hour_of_day': 1, 'cos_hour_of_day': 1, 'friday': 0, 'monday': 0, 'saturday': 0, 'sunday': 0, 'thursday': 0, 'tuesday': 0, 'wednesday': 0}, {'index': 4, 'PLANNEDTIME_DEP': 1, 'ROUTEID': '46A_74', 'TOTAL_JOURNEY_TIME': 1, 'rain': 0, 'temp': 0, 'dew_pt_tempACZ': 0, 'humidityAPZ': 1, 'sea_lvl_pressureAhPaZ': 0, 'sin_hour_of_day': 1, 'cos_hour_of_day': 1, 'friday': 1, 'monday': 0, 'saturday': 1, 'sunday': 1, 'thursday': 1, 'tuesday': 1, 'wednesday': 1}, {'index': 5, 'PLANNEDTIME_DEP': 0, 'ROUTEID': '122_14', 'TOTAL_JOURNEY_TIME': 1, 'rain': 0, 'temp': 1, 'dew_pt_tempACZ': 1, 'humidityAPZ': 0, 'sea_lvl_pressureAhPaZ': 1, 'sin_hour_of_day': 1, 'cos_hour_of_day': 1, 'friday': 1, 'monday': 0, 'saturday': 1, 'sunday': 1, 'thursday': 1, 'tuesday': 1, 'wednesday': 1}, {'index': 6, 'PLANNEDTIME_DEP': 0, 'ROUTEID': '150_8', 'TOTAL_JOURNEY_TIME': 1, 'rain': 0, 'temp': 0, 'dew_pt_tempACZ': 0, 'humidityAPZ': 0, 'sea_lvl_pressureAhPaZ': 0, 'sin_hour_of_day': 1, 'cos_hour_of_day': 1, 'friday': 1, 'monday': 0, 'saturday': 1, 'sunday': 1, 'thursday': 1, 'tuesday': 1, 'wednesday': 1}, {'index': 7, 'PLANNEDTIME_DEP': 1, 'ROUTEID': '33X_49', 'TOTAL_JOURNEY_TIME': 1, 'rain': 0, 'temp': 1, 'dew_pt_tempACZ': 0, 'humidityAPZ': 1, 'sea_lvl_pressureAhPaZ': 1, 'sin_hour_of_day': 1, 'cos_hour_of_day': 1, 'friday': 0, 'monday': 1, 'saturday': 0, 'sunday': 0, 'thursday': 1, 'tuesday': 0, 'wednesday': 0}  ... displaying 10 of 278 total bound parameter sets ...  {'index': 276, 'PLANNEDTIME_DEP': 1, 'ROUTEID': '47_136', 'TOTAL_JOURNEY_TIME': 1, 'rain': 0, 'temp': 0, 'dew_pt_tempACZ': 0, 'humidityAPZ': 0, 'sea_lvl_pressureAhPaZ': 0, 'sin_hour_of_day': 1, 'cos_hour_of_day': 1, 'friday': 1, 'monday': 0, 'saturday': 1, 'sunday': 1, 'thursday': 1, 'tuesday': 1, 'wednesday': 1}, {'index': 277, 'PLANNEDTIME_DEP': 1, 'ROUTEID': '40D_103', 'TOTAL_JOURNEY_TIME': 1, 'rain': 0, 'temp': 1, 'dew_pt_tempACZ': 1, 'humidityAPZ': 1, 'sea_lvl_pressureAhPaZ': 0, 'sin_hour_of_day': 1, 'cos_hour_of_day': 1, 'friday': 0, 'monday': 0, 'saturday': 0, 'sunday': 0, 'thursday': 0, 'tuesday': 0, 'wednesday': 0})\n",
      "2022-07-15 14:16:40,333 INFO sqlalchemy.engine.Engine COMMIT\n",
      "2022-07-15 14:16:40,510 INFO sqlalchemy.engine.Engine SELECT * FROM feature_selection\n",
      "2022-07-15 14:16:40,511 INFO sqlalchemy.engine.Engine [raw sql] {}\n"
     ]
    }
   ],
   "source": [
    "add_tables([df_ft_table],['feature_selection'])"
   ]
  },
  {
   "cell_type": "markdown",
   "id": "e6af741f",
   "metadata": {},
   "source": [
    "Check if entered data at sql is matching dataframe"
   ]
  },
  {
   "cell_type": "code",
   "execution_count": 14,
   "id": "b07ff19b",
   "metadata": {
    "scrolled": true
   },
   "outputs": [
    {
     "name": "stdout",
     "output_type": "stream",
     "text": [
      "2022-07-15 01:43:32,628 INFO sqlalchemy.engine.Engine SELECT DATABASE()\n",
      "2022-07-15 01:43:32,629 INFO sqlalchemy.engine.Engine [raw sql] {}\n",
      "2022-07-15 01:43:32,805 INFO sqlalchemy.engine.Engine SELECT @@sql_mode\n",
      "2022-07-15 01:43:32,807 INFO sqlalchemy.engine.Engine [raw sql] {}\n",
      "2022-07-15 01:43:32,895 INFO sqlalchemy.engine.Engine SELECT @@lower_case_table_names\n",
      "2022-07-15 01:43:32,896 INFO sqlalchemy.engine.Engine [raw sql] {}\n",
      "2022-07-15 01:43:33,158 INFO sqlalchemy.engine.Engine SELECT COUNT(*) FROM information_schema.tables WHERE table_schema = %(table_schema)s AND table_name = %(table_name)s\n",
      "2022-07-15 01:43:33,159 INFO sqlalchemy.engine.Engine [generated in 0.00153s] {'table_schema': 'static_tables', 'table_name': 'select * from STOPPOINTID_pairs_vs_ROUTEID'}\n",
      "2022-07-15 01:43:33,389 INFO sqlalchemy.engine.Engine select * from STOPPOINTID_pairs_vs_ROUTEID\n",
      "2022-07-15 01:43:33,392 INFO sqlalchemy.engine.Engine [raw sql] {}\n"
     ]
    }
   ],
   "source": [
    "df_ssp_table_mysql= pd.read_sql(\"select * from STOPPOINTID_pairs_vs_ROUTEID\", get_engine());"
   ]
  },
  {
   "cell_type": "code",
   "execution_count": 15,
   "id": "d5c08a8c",
   "metadata": {
    "scrolled": true
   },
   "outputs": [
    {
     "data": {
      "text/plain": [
       "(455817, 5)"
      ]
     },
     "execution_count": 15,
     "metadata": {},
     "output_type": "execute_result"
    }
   ],
   "source": [
    "df_ssp_table_mysql.shape"
   ]
  },
  {
   "cell_type": "code",
   "execution_count": 18,
   "id": "4b266077",
   "metadata": {},
   "outputs": [
    {
     "data": {
      "text/plain": [
       "0"
      ]
     },
     "execution_count": 18,
     "metadata": {},
     "output_type": "execute_result"
    }
   ],
   "source": [
    "ssp_missing_row_count=df_ssp_table.shape[0]-df_ssp_table_mysql.shape[0]\n",
    "ssp_missing_row_count"
   ]
  },
  {
   "cell_type": "code",
   "execution_count": 19,
   "id": "80fb2b15",
   "metadata": {},
   "outputs": [],
   "source": [
    "df_ssp_table_mysql.to_csv('STOPPOINTID_pairs_vs_ROUTEID.csv',index=False)"
   ]
  },
  {
   "cell_type": "code",
   "execution_count": 20,
   "id": "bb200457",
   "metadata": {},
   "outputs": [
    {
     "name": "stdout",
     "output_type": "stream",
     "text": [
      "2022-07-15 01:45:01,382 INFO sqlalchemy.engine.Engine SELECT DATABASE()\n",
      "2022-07-15 01:45:01,384 INFO sqlalchemy.engine.Engine [raw sql] {}\n",
      "2022-07-15 01:45:01,556 INFO sqlalchemy.engine.Engine SELECT @@sql_mode\n",
      "2022-07-15 01:45:01,557 INFO sqlalchemy.engine.Engine [raw sql] {}\n",
      "2022-07-15 01:45:01,644 INFO sqlalchemy.engine.Engine SELECT @@lower_case_table_names\n",
      "2022-07-15 01:45:01,645 INFO sqlalchemy.engine.Engine [raw sql] {}\n",
      "2022-07-15 01:45:01,901 INFO sqlalchemy.engine.Engine SELECT COUNT(*) FROM information_schema.tables WHERE table_schema = %(table_schema)s AND table_name = %(table_name)s\n",
      "2022-07-15 01:45:01,903 INFO sqlalchemy.engine.Engine [generated in 0.00147s] {'table_schema': 'static_tables', 'table_name': 'select * from timetables'}\n",
      "2022-07-15 01:45:02,092 INFO sqlalchemy.engine.Engine select * from timetables\n",
      "2022-07-15 01:45:02,093 INFO sqlalchemy.engine.Engine [raw sql] {}\n"
     ]
    }
   ],
   "source": [
    "df_tt_table_mysql= pd.read_sql(\"select * from timetables\", get_engine());"
   ]
  },
  {
   "cell_type": "code",
   "execution_count": 21,
   "id": "3525b2b6",
   "metadata": {
    "scrolled": true
   },
   "outputs": [
    {
     "data": {
      "text/plain": [
       "(2263084, 7)"
      ]
     },
     "execution_count": 21,
     "metadata": {},
     "output_type": "execute_result"
    }
   ],
   "source": [
    "df_tt_table_mysql.shape"
   ]
  },
  {
   "cell_type": "code",
   "execution_count": 22,
   "id": "39511137",
   "metadata": {},
   "outputs": [
    {
     "data": {
      "text/plain": [
       "0"
      ]
     },
     "execution_count": 22,
     "metadata": {},
     "output_type": "execute_result"
    }
   ],
   "source": [
    "tt_missing_row_count=df_tt_table.shape[0]-df_tt_table_mysql.shape[0]\n",
    "tt_missing_row_count"
   ]
  },
  {
   "cell_type": "code",
   "execution_count": 23,
   "id": "ffcfbc66",
   "metadata": {},
   "outputs": [],
   "source": [
    "df_tt_table_mysql.to_csv(home_path+'/Lorna/timetables_V2/timetables.csv',index=False)"
   ]
  },
  {
   "cell_type": "code",
   "execution_count": 9,
   "id": "e7bea756",
   "metadata": {
    "scrolled": true
   },
   "outputs": [
    {
     "name": "stdout",
     "output_type": "stream",
     "text": [
      "2022-07-15 14:18:56,802 INFO sqlalchemy.engine.Engine SELECT DATABASE()\n",
      "2022-07-15 14:18:56,804 INFO sqlalchemy.engine.Engine [raw sql] {}\n",
      "2022-07-15 14:18:56,980 INFO sqlalchemy.engine.Engine SELECT @@sql_mode\n",
      "2022-07-15 14:18:56,982 INFO sqlalchemy.engine.Engine [raw sql] {}\n",
      "2022-07-15 14:18:57,069 INFO sqlalchemy.engine.Engine SELECT @@lower_case_table_names\n",
      "2022-07-15 14:18:57,070 INFO sqlalchemy.engine.Engine [raw sql] {}\n",
      "2022-07-15 14:18:57,332 INFO sqlalchemy.engine.Engine SELECT COUNT(*) FROM information_schema.tables WHERE table_schema = %(table_schema)s AND table_name = %(table_name)s\n",
      "2022-07-15 14:18:57,333 INFO sqlalchemy.engine.Engine [generated in 0.00148s] {'table_schema': 'static_tables', 'table_name': 'select * from feature_selection'}\n",
      "2022-07-15 14:18:57,524 INFO sqlalchemy.engine.Engine select * from feature_selection\n",
      "2022-07-15 14:18:57,525 INFO sqlalchemy.engine.Engine [raw sql] {}\n"
     ]
    }
   ],
   "source": [
    "#add_tables([df_ft_table],['feature_selection'])\n",
    "df_ft_table_mysql= pd.read_sql(\"select * from feature_selection\", get_engine());"
   ]
  },
  {
   "cell_type": "code",
   "execution_count": 10,
   "id": "8ba39909",
   "metadata": {},
   "outputs": [
    {
     "data": {
      "text/plain": [
       "(278, 18)"
      ]
     },
     "execution_count": 10,
     "metadata": {},
     "output_type": "execute_result"
    }
   ],
   "source": [
    "df_ft_table_mysql.shape"
   ]
  },
  {
   "cell_type": "code",
   "execution_count": 12,
   "id": "1beca814",
   "metadata": {},
   "outputs": [
    {
     "data": {
      "text/plain": [
       "0"
      ]
     },
     "execution_count": 12,
     "metadata": {},
     "output_type": "execute_result"
    }
   ],
   "source": [
    "ft_missing_row_count=df_ft_table.shape[0]-df_ft_table_mysql.shape[0]\n",
    "ft_missing_row_count"
   ]
  }
 ],
 "metadata": {
  "kernelspec": {
   "display_name": "Python 3 (ipykernel)",
   "language": "python",
   "name": "python3"
  },
  "language_info": {
   "codemirror_mode": {
    "name": "ipython",
    "version": 3
   },
   "file_extension": ".py",
   "mimetype": "text/x-python",
   "name": "python",
   "nbconvert_exporter": "python",
   "pygments_lexer": "ipython3",
   "version": "3.9.12"
  }
 },
 "nbformat": 4,
 "nbformat_minor": 5
}
