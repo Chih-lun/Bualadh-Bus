{
 "cells": [
  {
   "cell_type": "code",
   "execution_count": 81,
   "id": "9a373805",
   "metadata": {},
   "outputs": [],
   "source": [
    "#libs for mysql connect\n",
    "from sqlalchemy import create_engine\n",
    "import credentials"
   ]
  },
  {
   "cell_type": "markdown",
   "id": "1f282ac1",
   "metadata": {},
   "source": [
    "Writing table to mysql db"
   ]
  },
  {
   "cell_type": "code",
   "execution_count": 82,
   "id": "593fb72c",
   "metadata": {},
   "outputs": [],
   "source": [
    "def get_engine():\n",
    "    '''Used to create the engine, selects production or test database depending on requirement'''\n",
    "    db_name = credentials.db_database \n",
    "    uri = credentials.db_uri\n",
    "    user = credentials.db_user\n",
    "    password = credentials.db_password\n",
    "    port = credentials.db_port\n",
    "    return create_engine(f\"mysql+pymysql://{user}:{password}@{uri}:{port}/{db_name}\",echo=True)"
   ]
  },
  {
   "cell_type": "code",
   "execution_count": 83,
   "id": "7fe66bf4",
   "metadata": {},
   "outputs": [],
   "source": [
    "dtypes={'ROUTEID':'category', 'Beginning_stop':'category','Ending_stop':'category', 'Weight':'float64' }\n",
    "df_table = pd.read_csv('stop_point_pair_vs_routeid.csv')"
   ]
  },
  {
   "cell_type": "code",
   "execution_count": 84,
   "id": "4e2c55c9",
   "metadata": {
    "scrolled": true
   },
   "outputs": [
    {
     "data": {
      "text/html": [
       "<div>\n",
       "<style scoped>\n",
       "    .dataframe tbody tr th:only-of-type {\n",
       "        vertical-align: middle;\n",
       "    }\n",
       "\n",
       "    .dataframe tbody tr th {\n",
       "        vertical-align: top;\n",
       "    }\n",
       "\n",
       "    .dataframe thead th {\n",
       "        text-align: right;\n",
       "    }\n",
       "</style>\n",
       "<table border=\"1\" class=\"dataframe\">\n",
       "  <thead>\n",
       "    <tr style=\"text-align: right;\">\n",
       "      <th></th>\n",
       "      <th>ROUTEID</th>\n",
       "      <th>Beginning_stop</th>\n",
       "      <th>Ending_stop</th>\n",
       "      <th>Weight</th>\n",
       "    </tr>\n",
       "  </thead>\n",
       "  <tbody>\n",
       "    <tr>\n",
       "      <th>0</th>\n",
       "      <td>18_3</td>\n",
       "      <td>4359</td>\n",
       "      <td>4360</td>\n",
       "      <td>0.006136</td>\n",
       "    </tr>\n",
       "    <tr>\n",
       "      <th>1</th>\n",
       "      <td>18_3</td>\n",
       "      <td>4359</td>\n",
       "      <td>4361</td>\n",
       "      <td>0.006136</td>\n",
       "    </tr>\n",
       "    <tr>\n",
       "      <th>2</th>\n",
       "      <td>18_3</td>\n",
       "      <td>4359</td>\n",
       "      <td>2202</td>\n",
       "      <td>0.006136</td>\n",
       "    </tr>\n",
       "    <tr>\n",
       "      <th>3</th>\n",
       "      <td>18_3</td>\n",
       "      <td>4359</td>\n",
       "      <td>2203</td>\n",
       "      <td>0.006136</td>\n",
       "    </tr>\n",
       "    <tr>\n",
       "      <th>4</th>\n",
       "      <td>18_3</td>\n",
       "      <td>4359</td>\n",
       "      <td>2204</td>\n",
       "      <td>0.006136</td>\n",
       "    </tr>\n",
       "  </tbody>\n",
       "</table>\n",
       "</div>"
      ],
      "text/plain": [
       "  ROUTEID  Beginning_stop  Ending_stop    Weight\n",
       "0    18_3            4359         4360  0.006136\n",
       "1    18_3            4359         4361  0.006136\n",
       "2    18_3            4359         2202  0.006136\n",
       "3    18_3            4359         2203  0.006136\n",
       "4    18_3            4359         2204  0.006136"
      ]
     },
     "execution_count": 84,
     "metadata": {},
     "output_type": "execute_result"
    }
   ],
   "source": [
    "df_table.head(5)"
   ]
  },
  {
   "cell_type": "code",
   "execution_count": 74,
   "id": "aed62f3f",
   "metadata": {},
   "outputs": [
    {
     "data": {
      "text/plain": [
       "(483218, 4)"
      ]
     },
     "execution_count": 74,
     "metadata": {},
     "output_type": "execute_result"
    }
   ],
   "source": [
    "df_table.shape"
   ]
  },
  {
   "cell_type": "code",
   "execution_count": 72,
   "id": "9b5883f2",
   "metadata": {},
   "outputs": [],
   "source": [
    "def add_stops(df_table):\n",
    "    engine = get_engine()\n",
    "    df_table.to_sql('spp_routeid', con=engine)\n",
    "    engine.execute(\"SELECT * FROM spp_routeid\").fetchall()"
   ]
  },
  {
   "cell_type": "code",
   "execution_count": 70,
   "id": "de21e949",
   "metadata": {},
   "outputs": [],
   "source": [
    "def stop_scrapper():\n",
    "    add_stops(df_table)"
   ]
  },
  {
   "cell_type": "code",
   "execution_count": 73,
   "id": "d8aeda17",
   "metadata": {
    "scrolled": true
   },
   "outputs": [
    {
     "name": "stdout",
     "output_type": "stream",
     "text": [
      "2022-07-14 00:29:38,793 INFO sqlalchemy.engine.Engine SELECT DATABASE()\n",
      "2022-07-14 00:29:38,794 INFO sqlalchemy.engine.Engine [raw sql] {}\n",
      "2022-07-14 00:29:38,968 INFO sqlalchemy.engine.Engine SELECT @@sql_mode\n",
      "2022-07-14 00:29:38,969 INFO sqlalchemy.engine.Engine [raw sql] {}\n",
      "2022-07-14 00:29:39,056 INFO sqlalchemy.engine.Engine SELECT @@lower_case_table_names\n",
      "2022-07-14 00:29:39,057 INFO sqlalchemy.engine.Engine [raw sql] {}\n",
      "2022-07-14 00:29:39,317 INFO sqlalchemy.engine.Engine SELECT COUNT(*) FROM information_schema.tables WHERE table_schema = %(table_schema)s AND table_name = %(table_name)s\n",
      "2022-07-14 00:29:39,318 INFO sqlalchemy.engine.Engine [generated in 0.00171s] {'table_schema': 'stoppoint_pairs', 'table_name': 'spp_routeid'}\n",
      "2022-07-14 00:29:39,496 INFO sqlalchemy.engine.Engine BEGIN (implicit)\n",
      "2022-07-14 00:29:39,498 INFO sqlalchemy.engine.Engine \n",
      "CREATE TABLE spp_routeid (\n",
      "\t`index` BIGINT, \n",
      "\t`ROUTEID` TEXT, \n",
      "\t`Beginning_stop` BIGINT, \n",
      "\t`Ending_stop` BIGINT, \n",
      "\t`Weight` FLOAT(53)\n",
      ")\n",
      "\n",
      "\n",
      "2022-07-14 00:29:39,499 INFO sqlalchemy.engine.Engine [no key 0.00082s] {}\n",
      "2022-07-14 00:29:39,626 INFO sqlalchemy.engine.Engine CREATE INDEX ix_spp_routeid_index ON spp_routeid (`index`)\n",
      "2022-07-14 00:29:39,627 INFO sqlalchemy.engine.Engine [no key 0.00113s] {}\n",
      "2022-07-14 00:29:39,747 INFO sqlalchemy.engine.Engine COMMIT\n",
      "2022-07-14 00:29:40,036 INFO sqlalchemy.engine.Engine BEGIN (implicit)\n",
      "2022-07-14 00:29:43,247 INFO sqlalchemy.engine.Engine INSERT INTO spp_routeid (`index`, `ROUTEID`, `Beginning_stop`, `Ending_stop`, `Weight`) VALUES (%(index)s, %(ROUTEID)s, %(Beginning_stop)s, %(Ending_stop)s, %(Weight)s)\n",
      "2022-07-14 00:29:43,248 INFO sqlalchemy.engine.Engine [generated in 2.78955s] ({'index': 0, 'ROUTEID': '18_3', 'Beginning_stop': 4359, 'Ending_stop': 4360, 'Weight': 0.0061359817806606}, {'index': 1, 'ROUTEID': '18_3', 'Beginning_stop': 4359, 'Ending_stop': 4361, 'Weight': 0.0061359817806606}, {'index': 2, 'ROUTEID': '18_3', 'Beginning_stop': 4359, 'Ending_stop': 2202, 'Weight': 0.0061359817806606}, {'index': 3, 'ROUTEID': '18_3', 'Beginning_stop': 4359, 'Ending_stop': 2203, 'Weight': 0.0061359817806606}, {'index': 4, 'ROUTEID': '18_3', 'Beginning_stop': 4359, 'Ending_stop': 2204, 'Weight': 0.0061359817806606}, {'index': 5, 'ROUTEID': '18_3', 'Beginning_stop': 4359, 'Ending_stop': 4888, 'Weight': 0.0061359817806606}, {'index': 6, 'ROUTEID': '18_3', 'Beginning_stop': 4359, 'Ending_stop': 4799, 'Weight': 0.0061359817806606}, {'index': 7, 'ROUTEID': '18_3', 'Beginning_stop': 4359, 'Ending_stop': 2205, 'Weight': 0.0061359817806606}  ... displaying 10 of 483218 total bound parameter sets ...  {'index': 483216, 'ROUTEID': '40D_103', 'Beginning_stop': 52, 'Ending_stop': 6071, 'Weight': 0.0032125888216368}, {'index': 483217, 'ROUTEID': '40D_103', 'Beginning_stop': 4725, 'Ending_stop': 6071, 'Weight': 0.0032125888216368})\n",
      "2022-07-14 00:29:59,124 INFO sqlalchemy.engine.Engine COMMIT\n",
      "2022-07-14 00:29:59,430 INFO sqlalchemy.engine.Engine SELECT * FROM spp_routeid\n",
      "2022-07-14 00:29:59,431 INFO sqlalchemy.engine.Engine [raw sql] {}\n"
     ]
    }
   ],
   "source": [
    "stop_scrapper()"
   ]
  },
  {
   "cell_type": "markdown",
   "id": "e6af741f",
   "metadata": {},
   "source": [
    "Check if entered data at sql is matching dataframe"
   ]
  },
  {
   "cell_type": "code",
   "execution_count": 77,
   "id": "b07ff19b",
   "metadata": {},
   "outputs": [
    {
     "name": "stdout",
     "output_type": "stream",
     "text": [
      "2022-07-14 00:39:24,205 INFO sqlalchemy.engine.Engine SELECT DATABASE()\n",
      "2022-07-14 00:39:24,206 INFO sqlalchemy.engine.Engine [raw sql] {}\n",
      "2022-07-14 00:39:24,380 INFO sqlalchemy.engine.Engine SELECT @@sql_mode\n",
      "2022-07-14 00:39:24,381 INFO sqlalchemy.engine.Engine [raw sql] {}\n",
      "2022-07-14 00:39:24,468 INFO sqlalchemy.engine.Engine SELECT @@lower_case_table_names\n",
      "2022-07-14 00:39:24,469 INFO sqlalchemy.engine.Engine [raw sql] {}\n",
      "2022-07-14 00:39:24,730 INFO sqlalchemy.engine.Engine SELECT COUNT(*) FROM information_schema.tables WHERE table_schema = %(table_schema)s AND table_name = %(table_name)s\n",
      "2022-07-14 00:39:24,730 INFO sqlalchemy.engine.Engine [generated in 0.00100s] {'table_schema': 'stoppoint_pairs', 'table_name': 'select * from spp_routeid'}\n",
      "2022-07-14 00:39:24,914 INFO sqlalchemy.engine.Engine select * from spp_routeid\n",
      "2022-07-14 00:39:24,915 INFO sqlalchemy.engine.Engine [raw sql] {}\n"
     ]
    }
   ],
   "source": [
    "df= pd.read_sql(\"select * from spp_routeid\", get_engine());"
   ]
  },
  {
   "cell_type": "code",
   "execution_count": 78,
   "id": "3525b2b6",
   "metadata": {
    "scrolled": true
   },
   "outputs": [
    {
     "data": {
      "text/plain": [
       "(483218, 5)"
      ]
     },
     "execution_count": 78,
     "metadata": {},
     "output_type": "execute_result"
    }
   ],
   "source": [
    "df.shape"
   ]
  },
  {
   "cell_type": "code",
   "execution_count": 80,
   "id": "4b266077",
   "metadata": {},
   "outputs": [
    {
     "data": {
      "text/plain": [
       "0"
      ]
     },
     "execution_count": 80,
     "metadata": {},
     "output_type": "execute_result"
    }
   ],
   "source": [
    "missing_row_count=df_table.shape[0]-df.shape[0]\n",
    "missing_row_count"
   ]
  }
 ],
 "metadata": {
  "kernelspec": {
   "display_name": "Python 3 (ipykernel)",
   "language": "python",
   "name": "python3"
  },
  "language_info": {
   "codemirror_mode": {
    "name": "ipython",
    "version": 3
   },
   "file_extension": ".py",
   "mimetype": "text/x-python",
   "name": "python",
   "nbconvert_exporter": "python",
   "pygments_lexer": "ipython3",
   "version": "3.9.12"
  }
 },
 "nbformat": 4,
 "nbformat_minor": 5
}
