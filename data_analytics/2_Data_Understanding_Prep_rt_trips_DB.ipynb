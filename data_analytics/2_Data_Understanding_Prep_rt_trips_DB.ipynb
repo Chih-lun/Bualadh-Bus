{
 "cells": [
  {
   "cell_type": "code",
   "execution_count": 1,
   "metadata": {},
   "outputs": [],
   "source": [
    "#Import package pandas for data analysis\n",
    "import pandas as pd\n",
    "# Import package numpy for numeric computing\n",
    "import numpy as np\n",
    "from numpy import int64\n",
    "from numpy import float64\n",
    "from numpy import datetime64\n",
    "# Import package matplotlib for visualisation/plotting\n",
    "import matplotlib.pyplot as plt\n",
    "# Allows plots to appear directly in the notebook.\n",
    "%matplotlib inline\n",
    "# For dealing with some Accented characters (in Irish Place names)\n",
    "import unidecode\n",
    "# Date/time functionality\n",
    "import datetime\n",
    "import time\n",
    "# Check if files exist\n",
    "from os.path import exists\n",
    "from os import makedirs\n",
    "# System specific parameters and functions\n",
    "import sys\n",
    "# look at some z-scores for inspecting outliers.\n",
    "from scipy import stats\n",
    "import seaborn as sb\n",
    "# lookup lat/long and convert lat/long to national grid references.\n",
    "import geopy\n",
    "import pyproj\n",
    "\n",
    "from patsy import dmatrices\n",
    "from sklearn import metrics\n",
    "\n",
    "from sklearn.datasets import make_classification\n",
    "from sklearn.ensemble import RandomForestClassifier\n",
    "from sklearn.ensemble import RandomForestRegressor\n",
    "\n",
    "from sklearn.linear_model import LinearRegression\n",
    "from sklearn.tree import DecisionTreeClassifier\n",
    "from sklearn.tree import DecisionTreeRegressor\n",
    "from sklearn.tree import export_graphviz\n",
    "#from sklearn.tree import export_text\n",
    "\n",
    "from sklearn.metrics import mean_absolute_error, make_scorer\n",
    "from sklearn.preprocessing import LabelEncoder\n",
    "\n",
    "from sklearn.model_selection import cross_validate\n",
    "from sklearn.model_selection import cross_val_score \n",
    "from sklearn.model_selection import RepeatedStratifiedKFold\n",
    "from sklearn.model_selection import train_test_split\n",
    "\n",
    "import graphviz\n",
    "from graphviz import Source\n",
    "#to read all CSV files in a folder\n",
    "import os\n",
    "import glob"
   ]
  },
  {
   "cell_type": "markdown",
   "metadata": {},
   "source": [
    "Reading data in chunks and adding dataframes to a list\n",
    "        \n",
    "        *Note: Dont need to run below cell if chunks already created, call get_chunks function to create chunks list"
   ]
  },
  {
   "cell_type": "code",
   "execution_count": 2,
   "metadata": {},
   "outputs": [
    {
     "name": "stdout",
     "output_type": "stream",
     "text": [
      "(2182637, 16)\n"
     ]
    }
   ],
   "source": [
    "chunk_size = 10000000\n",
    "batch_no=1\n",
    "chunk_trips_list=[]\n",
    "for chunk in pd.read_csv('~/tmp/data/rt_trips_DB_2018.txt',sep=';',chunksize=chunk_size):\n",
    "    chunk_trips_list.append(chunk)\n",
    "    chunk.to_csv('Chunks/trips/'+str(batch_no)+'chunk_trips'+'.csv',index=False)\n",
    "    batch_no+=1\n",
    "    print(chunk.shape)"
   ]
  },
  {
   "cell_type": "markdown",
   "metadata": {},
   "source": [
    "Reading Data from multiple files in a folder to a list of data frames"
   ]
  },
  {
   "cell_type": "code",
   "execution_count": 2,
   "metadata": {},
   "outputs": [],
   "source": [
    "def get_chunks(location):\n",
    "    cwd=os.getcwd()\n",
    "    path = cwd+location\n",
    "    chunk_folder = glob.glob(os.path.join(path, \"*.csv\"))\n",
    "    chunk_list=[]\n",
    "    for filename in chunk_folder:\n",
    "        # read the csv file\n",
    "        df_chunk = pd.read_csv(filename)\n",
    "        chunk_list.append(df_chunk)\n",
    "        print('Location:', filename)\n",
    "    return chunk_list"
   ]
  },
  {
   "cell_type": "code",
   "execution_count": 4,
   "metadata": {
    "scrolled": true
   },
   "outputs": [
    {
     "name": "stdout",
     "output_type": "stream",
     "text": [
      "('Location:', '/home/team8/notebook/Pelin/Chunks/trips/1chunk_trips.csv')\n"
     ]
    }
   ],
   "source": [
    "chunk_trips_list=get_chunks('/Chunks/trips')"
   ]
  },
  {
   "cell_type": "markdown",
   "metadata": {},
   "source": [
    "Combining chunks to 1 big dataframe"
   ]
  },
  {
   "cell_type": "code",
   "execution_count": 5,
   "metadata": {},
   "outputs": [],
   "source": [
    "df_trips=pd.concat(chunk_trips_list, axis=0)"
   ]
  },
  {
   "cell_type": "code",
   "execution_count": 6,
   "metadata": {},
   "outputs": [
    {
     "data": {
      "text/plain": [
       "(2182637, 16)"
      ]
     },
     "execution_count": 6,
     "metadata": {},
     "output_type": "execute_result"
    }
   ],
   "source": [
    "df_trips.shape"
   ]
  },
  {
   "cell_type": "code",
   "execution_count": 7,
   "metadata": {},
   "outputs": [
    {
     "data": {
      "text/html": [
       "<div>\n",
       "<style scoped>\n",
       "    .dataframe tbody tr th:only-of-type {\n",
       "        vertical-align: middle;\n",
       "    }\n",
       "\n",
       "    .dataframe tbody tr th {\n",
       "        vertical-align: top;\n",
       "    }\n",
       "\n",
       "    .dataframe thead th {\n",
       "        text-align: right;\n",
       "    }\n",
       "</style>\n",
       "<table border=\"1\" class=\"dataframe\">\n",
       "  <thead>\n",
       "    <tr style=\"text-align: right;\">\n",
       "      <th></th>\n",
       "      <th>DATASOURCE</th>\n",
       "      <th>DAYOFSERVICE</th>\n",
       "      <th>TRIPID</th>\n",
       "      <th>LINEID</th>\n",
       "      <th>ROUTEID</th>\n",
       "      <th>DIRECTION</th>\n",
       "      <th>PLANNEDTIME_ARR</th>\n",
       "      <th>PLANNEDTIME_DEP</th>\n",
       "      <th>ACTUALTIME_ARR</th>\n",
       "      <th>ACTUALTIME_DEP</th>\n",
       "      <th>BASIN</th>\n",
       "      <th>TENDERLOT</th>\n",
       "      <th>SUPPRESSED</th>\n",
       "      <th>JUSTIFICATIONID</th>\n",
       "      <th>LASTUPDATE</th>\n",
       "      <th>NOTE</th>\n",
       "    </tr>\n",
       "  </thead>\n",
       "  <tbody>\n",
       "    <tr>\n",
       "      <th>0</th>\n",
       "      <td>DB</td>\n",
       "      <td>07-FEB-18 00:00:00</td>\n",
       "      <td>6253783</td>\n",
       "      <td>68</td>\n",
       "      <td>68_80</td>\n",
       "      <td>1</td>\n",
       "      <td>87245</td>\n",
       "      <td>84600</td>\n",
       "      <td>87524.0</td>\n",
       "      <td>84600.0</td>\n",
       "      <td>BasDef</td>\n",
       "      <td>NaN</td>\n",
       "      <td>NaN</td>\n",
       "      <td>NaN</td>\n",
       "      <td>28-FEB-18 12:05:11</td>\n",
       "      <td>,2967409,</td>\n",
       "    </tr>\n",
       "    <tr>\n",
       "      <th>1</th>\n",
       "      <td>DB</td>\n",
       "      <td>07-FEB-18 00:00:00</td>\n",
       "      <td>6262138</td>\n",
       "      <td>25B</td>\n",
       "      <td>25B_271</td>\n",
       "      <td>2</td>\n",
       "      <td>30517</td>\n",
       "      <td>26460</td>\n",
       "      <td>32752.0</td>\n",
       "      <td>NaN</td>\n",
       "      <td>BasDef</td>\n",
       "      <td>NaN</td>\n",
       "      <td>NaN</td>\n",
       "      <td>NaN</td>\n",
       "      <td>28-FEB-18 12:05:11</td>\n",
       "      <td>,2580260,</td>\n",
       "    </tr>\n",
       "    <tr>\n",
       "      <th>2</th>\n",
       "      <td>DB</td>\n",
       "      <td>07-FEB-18 00:00:00</td>\n",
       "      <td>6254942</td>\n",
       "      <td>45A</td>\n",
       "      <td>45A_70</td>\n",
       "      <td>2</td>\n",
       "      <td>35512</td>\n",
       "      <td>32100</td>\n",
       "      <td>36329.0</td>\n",
       "      <td>32082.0</td>\n",
       "      <td>BasDef</td>\n",
       "      <td>NaN</td>\n",
       "      <td>NaN</td>\n",
       "      <td>NaN</td>\n",
       "      <td>28-FEB-18 12:05:11</td>\n",
       "      <td>,2448968,</td>\n",
       "    </tr>\n",
       "    <tr>\n",
       "      <th>3</th>\n",
       "      <td>DB</td>\n",
       "      <td>07-FEB-18 00:00:00</td>\n",
       "      <td>6259460</td>\n",
       "      <td>25A</td>\n",
       "      <td>25A_273</td>\n",
       "      <td>1</td>\n",
       "      <td>57261</td>\n",
       "      <td>54420</td>\n",
       "      <td>58463.0</td>\n",
       "      <td>54443.0</td>\n",
       "      <td>BasDef</td>\n",
       "      <td>NaN</td>\n",
       "      <td>NaN</td>\n",
       "      <td>NaN</td>\n",
       "      <td>28-FEB-18 12:05:11</td>\n",
       "      <td>,3094242,</td>\n",
       "    </tr>\n",
       "    <tr>\n",
       "      <th>4</th>\n",
       "      <td>DB</td>\n",
       "      <td>07-FEB-18 00:00:00</td>\n",
       "      <td>6253175</td>\n",
       "      <td>14</td>\n",
       "      <td>14_15</td>\n",
       "      <td>1</td>\n",
       "      <td>85383</td>\n",
       "      <td>81600</td>\n",
       "      <td>84682.0</td>\n",
       "      <td>81608.0</td>\n",
       "      <td>BasDef</td>\n",
       "      <td>NaN</td>\n",
       "      <td>NaN</td>\n",
       "      <td>NaN</td>\n",
       "      <td>28-FEB-18 12:05:11</td>\n",
       "      <td>,2526331,</td>\n",
       "    </tr>\n",
       "  </tbody>\n",
       "</table>\n",
       "</div>"
      ],
      "text/plain": [
       "  DATASOURCE        DAYOFSERVICE   TRIPID LINEID  ROUTEID  DIRECTION  \\\n",
       "0         DB  07-FEB-18 00:00:00  6253783     68    68_80          1   \n",
       "1         DB  07-FEB-18 00:00:00  6262138    25B  25B_271          2   \n",
       "2         DB  07-FEB-18 00:00:00  6254942    45A   45A_70          2   \n",
       "3         DB  07-FEB-18 00:00:00  6259460    25A  25A_273          1   \n",
       "4         DB  07-FEB-18 00:00:00  6253175     14    14_15          1   \n",
       "\n",
       "   PLANNEDTIME_ARR  PLANNEDTIME_DEP  ACTUALTIME_ARR  ACTUALTIME_DEP   BASIN  \\\n",
       "0            87245            84600         87524.0         84600.0  BasDef   \n",
       "1            30517            26460         32752.0             NaN  BasDef   \n",
       "2            35512            32100         36329.0         32082.0  BasDef   \n",
       "3            57261            54420         58463.0         54443.0  BasDef   \n",
       "4            85383            81600         84682.0         81608.0  BasDef   \n",
       "\n",
       "   TENDERLOT  SUPPRESSED  JUSTIFICATIONID          LASTUPDATE       NOTE  \n",
       "0        NaN         NaN              NaN  28-FEB-18 12:05:11  ,2967409,  \n",
       "1        NaN         NaN              NaN  28-FEB-18 12:05:11  ,2580260,  \n",
       "2        NaN         NaN              NaN  28-FEB-18 12:05:11  ,2448968,  \n",
       "3        NaN         NaN              NaN  28-FEB-18 12:05:11  ,3094242,  \n",
       "4        NaN         NaN              NaN  28-FEB-18 12:05:11  ,2526331,  "
      ]
     },
     "execution_count": 7,
     "metadata": {},
     "output_type": "execute_result"
    }
   ],
   "source": [
    "df_trips.head(5)"
   ]
  },
  {
   "cell_type": "code",
   "execution_count": 8,
   "metadata": {},
   "outputs": [
    {
     "data": {
      "text/html": [
       "<div>\n",
       "<style scoped>\n",
       "    .dataframe tbody tr th:only-of-type {\n",
       "        vertical-align: middle;\n",
       "    }\n",
       "\n",
       "    .dataframe tbody tr th {\n",
       "        vertical-align: top;\n",
       "    }\n",
       "\n",
       "    .dataframe thead th {\n",
       "        text-align: right;\n",
       "    }\n",
       "</style>\n",
       "<table border=\"1\" class=\"dataframe\">\n",
       "  <thead>\n",
       "    <tr style=\"text-align: right;\">\n",
       "      <th></th>\n",
       "      <th>DATASOURCE</th>\n",
       "      <th>DAYOFSERVICE</th>\n",
       "      <th>TRIPID</th>\n",
       "      <th>LINEID</th>\n",
       "      <th>ROUTEID</th>\n",
       "      <th>DIRECTION</th>\n",
       "      <th>PLANNEDTIME_ARR</th>\n",
       "      <th>PLANNEDTIME_DEP</th>\n",
       "      <th>ACTUALTIME_ARR</th>\n",
       "      <th>ACTUALTIME_DEP</th>\n",
       "      <th>BASIN</th>\n",
       "      <th>TENDERLOT</th>\n",
       "      <th>SUPPRESSED</th>\n",
       "      <th>JUSTIFICATIONID</th>\n",
       "      <th>LASTUPDATE</th>\n",
       "      <th>NOTE</th>\n",
       "    </tr>\n",
       "  </thead>\n",
       "  <tbody>\n",
       "    <tr>\n",
       "      <th>2182632</th>\n",
       "      <td>DB</td>\n",
       "      <td>14-MAY-18 00:00:00</td>\n",
       "      <td>6765849</td>\n",
       "      <td>123</td>\n",
       "      <td>123_36</td>\n",
       "      <td>2</td>\n",
       "      <td>61560</td>\n",
       "      <td>57840</td>\n",
       "      <td>61365.0</td>\n",
       "      <td>57859.0</td>\n",
       "      <td>BasDef</td>\n",
       "      <td>NaN</td>\n",
       "      <td>NaN</td>\n",
       "      <td>NaN</td>\n",
       "      <td>26-JUN-18 09:13:13</td>\n",
       "      <td>,3216350,</td>\n",
       "    </tr>\n",
       "    <tr>\n",
       "      <th>2182633</th>\n",
       "      <td>DB</td>\n",
       "      <td>14-MAY-18 00:00:00</td>\n",
       "      <td>6765469</td>\n",
       "      <td>75</td>\n",
       "      <td>75_17</td>\n",
       "      <td>1</td>\n",
       "      <td>53416</td>\n",
       "      <td>48600</td>\n",
       "      <td>NaN</td>\n",
       "      <td>48823.0</td>\n",
       "      <td>BasDef</td>\n",
       "      <td>NaN</td>\n",
       "      <td>NaN</td>\n",
       "      <td>NaN</td>\n",
       "      <td>26-JUN-18 09:13:13</td>\n",
       "      <td>,2865284,</td>\n",
       "    </tr>\n",
       "    <tr>\n",
       "      <th>2182634</th>\n",
       "      <td>DB</td>\n",
       "      <td>14-MAY-18 00:00:00</td>\n",
       "      <td>6765486</td>\n",
       "      <td>33D</td>\n",
       "      <td>33D_62</td>\n",
       "      <td>2</td>\n",
       "      <td>29460</td>\n",
       "      <td>26400</td>\n",
       "      <td>29904.0</td>\n",
       "      <td>NaN</td>\n",
       "      <td>BasDef</td>\n",
       "      <td>NaN</td>\n",
       "      <td>NaN</td>\n",
       "      <td>NaN</td>\n",
       "      <td>26-JUN-18 09:13:13</td>\n",
       "      <td>,3077688,</td>\n",
       "    </tr>\n",
       "    <tr>\n",
       "      <th>2182635</th>\n",
       "      <td>DB</td>\n",
       "      <td>14-MAY-18 00:00:00</td>\n",
       "      <td>6764987</td>\n",
       "      <td>70</td>\n",
       "      <td>70_60</td>\n",
       "      <td>1</td>\n",
       "      <td>65277</td>\n",
       "      <td>60600</td>\n",
       "      <td>66341.0</td>\n",
       "      <td>NaN</td>\n",
       "      <td>BasDef</td>\n",
       "      <td>NaN</td>\n",
       "      <td>NaN</td>\n",
       "      <td>NaN</td>\n",
       "      <td>26-JUN-18 09:13:13</td>\n",
       "      <td>,3208841,</td>\n",
       "    </tr>\n",
       "    <tr>\n",
       "      <th>2182636</th>\n",
       "      <td>DB</td>\n",
       "      <td>14-MAY-18 00:00:00</td>\n",
       "      <td>6765012</td>\n",
       "      <td>27</td>\n",
       "      <td>27_19</td>\n",
       "      <td>1</td>\n",
       "      <td>47722</td>\n",
       "      <td>41700</td>\n",
       "      <td>47508.0</td>\n",
       "      <td>41642.0</td>\n",
       "      <td>BasDef</td>\n",
       "      <td>NaN</td>\n",
       "      <td>NaN</td>\n",
       "      <td>NaN</td>\n",
       "      <td>26-JUN-18 09:13:13</td>\n",
       "      <td>,2960092,</td>\n",
       "    </tr>\n",
       "  </tbody>\n",
       "</table>\n",
       "</div>"
      ],
      "text/plain": [
       "        DATASOURCE        DAYOFSERVICE   TRIPID LINEID ROUTEID  DIRECTION  \\\n",
       "2182632         DB  14-MAY-18 00:00:00  6765849    123  123_36          2   \n",
       "2182633         DB  14-MAY-18 00:00:00  6765469     75   75_17          1   \n",
       "2182634         DB  14-MAY-18 00:00:00  6765486    33D  33D_62          2   \n",
       "2182635         DB  14-MAY-18 00:00:00  6764987     70   70_60          1   \n",
       "2182636         DB  14-MAY-18 00:00:00  6765012     27   27_19          1   \n",
       "\n",
       "         PLANNEDTIME_ARR  PLANNEDTIME_DEP  ACTUALTIME_ARR  ACTUALTIME_DEP  \\\n",
       "2182632            61560            57840         61365.0         57859.0   \n",
       "2182633            53416            48600             NaN         48823.0   \n",
       "2182634            29460            26400         29904.0             NaN   \n",
       "2182635            65277            60600         66341.0             NaN   \n",
       "2182636            47722            41700         47508.0         41642.0   \n",
       "\n",
       "          BASIN  TENDERLOT  SUPPRESSED  JUSTIFICATIONID          LASTUPDATE  \\\n",
       "2182632  BasDef        NaN         NaN              NaN  26-JUN-18 09:13:13   \n",
       "2182633  BasDef        NaN         NaN              NaN  26-JUN-18 09:13:13   \n",
       "2182634  BasDef        NaN         NaN              NaN  26-JUN-18 09:13:13   \n",
       "2182635  BasDef        NaN         NaN              NaN  26-JUN-18 09:13:13   \n",
       "2182636  BasDef        NaN         NaN              NaN  26-JUN-18 09:13:13   \n",
       "\n",
       "              NOTE  \n",
       "2182632  ,3216350,  \n",
       "2182633  ,2865284,  \n",
       "2182634  ,3077688,  \n",
       "2182635  ,3208841,  \n",
       "2182636  ,2960092,  "
      ]
     },
     "execution_count": 8,
     "metadata": {},
     "output_type": "execute_result"
    }
   ],
   "source": [
    "df_trips.tail(5)"
   ]
  },
  {
   "cell_type": "code",
   "execution_count": 9,
   "metadata": {},
   "outputs": [
    {
     "name": "stdout",
     "output_type": "stream",
     "text": [
      "DATASOURCE              1\n",
      "DAYOFSERVICE          360\n",
      "TRIPID             658964\n",
      "LINEID                130\n",
      "ROUTEID               588\n",
      "DIRECTION               2\n",
      "PLANNEDTIME_ARR     64461\n",
      "PLANNEDTIME_DEP       791\n",
      "ACTUALTIME_ARR      68122\n",
      "ACTUALTIME_DEP      66771\n",
      "BASIN                   1\n",
      "TENDERLOT               0\n",
      "SUPPRESSED              1\n",
      "JUSTIFICATIONID      3526\n",
      "LASTUPDATE            360\n",
      "NOTE                46690\n",
      "dtype: int64\n",
      "==================================================================\n"
     ]
    }
   ],
   "source": [
    "for df in chunk_trips_list:\n",
    "    print(df.nunique())\n",
    "    print (\"=\"*66)"
   ]
  },
  {
   "cell_type": "markdown",
   "metadata": {},
   "source": [
    "There is 588 route, 130 Line in this dataset. \n",
    "\n",
    "Also this dataset contains information related to 658964 trip whereas, information related to approximately 826029 trip is available at leavetimes dataset(number 826029 might include double counted tripIDs due to summing up uniques in all chunks) "
   ]
  },
  {
   "cell_type": "code",
   "execution_count": 11,
   "metadata": {},
   "outputs": [
    {
     "data": {
      "text/plain": [
       "Index([u'DATASOURCE', u'DAYOFSERVICE', u'TRIPID', u'LINEID', u'ROUTEID',\n",
       "       u'DIRECTION', u'PLANNEDTIME_ARR', u'PLANNEDTIME_DEP', u'ACTUALTIME_ARR',\n",
       "       u'ACTUALTIME_DEP', u'BASIN', u'TENDERLOT', u'SUPPRESSED',\n",
       "       u'JUSTIFICATIONID', u'LASTUPDATE', u'NOTE'],\n",
       "      dtype='object')"
      ]
     },
     "execution_count": 11,
     "metadata": {},
     "output_type": "execute_result"
    }
   ],
   "source": [
    "df_trips.columns"
   ]
  },
  {
   "cell_type": "markdown",
   "metadata": {},
   "source": [
    "Dropping empty and constant columns from all chunks in dataset."
   ]
  },
  {
   "cell_type": "code",
   "execution_count": 12,
   "metadata": {},
   "outputs": [],
   "source": [
    "for df in chunk_trips_list:\n",
    "    del df['DATASOURCE']\n",
    "    del df['BASIN']\n",
    "    del df['TENDERLOT']\n",
    "    del df['SUPPRESSED']"
   ]
  },
  {
   "cell_type": "code",
   "execution_count": 13,
   "metadata": {},
   "outputs": [],
   "source": [
    "# Clean the column names to remove white space after the name or in the name\n",
    "for df in chunk_trips_list:\n",
    "    df.columns = df.columns.str.replace(' ', '')"
   ]
  },
  {
   "cell_type": "code",
   "execution_count": 3,
   "metadata": {},
   "outputs": [],
   "source": [
    "def update_csv_chunks(adress,name, c_list):\n",
    "    cwd=os.getcwd()\n",
    "    path = cwd+adress\n",
    "    batch_no=1\n",
    "    for chunk in c_list:\n",
    "        chunk.to_csv(path+str(batch_no)+name+'.csv',index=False)\n",
    "        batch_no+=1\n",
    "        print(chunk.shape)"
   ]
  },
  {
   "cell_type": "code",
   "execution_count": 15,
   "metadata": {
    "scrolled": true
   },
   "outputs": [
    {
     "name": "stdout",
     "output_type": "stream",
     "text": [
      "(2182637, 12)\n"
     ]
    }
   ],
   "source": [
    "update_csv_chunks('/Chunks/trips/','chunk_trips', chunk_trips_list)"
   ]
  },
  {
   "cell_type": "markdown",
   "metadata": {},
   "source": [
    "#### ========================================================================================================"
   ]
  },
  {
   "cell_type": "code",
   "execution_count": 5,
   "metadata": {},
   "outputs": [
    {
     "name": "stdout",
     "output_type": "stream",
     "text": [
      "('Location:', '/home/team8/notebook/Pelin/Chunks/trips/1chunk_trips.csv')\n"
     ]
    }
   ],
   "source": [
    "chunk_trips_list=get_chunks('/Chunks/trips')"
   ]
  },
  {
   "cell_type": "code",
   "execution_count": 6,
   "metadata": {},
   "outputs": [],
   "source": [
    "df_trips=pd.concat(chunk_trips_list, axis=0)"
   ]
  },
  {
   "cell_type": "markdown",
   "metadata": {},
   "source": [
    "Creating PK feature columns to merge with other DB datasets"
   ]
  },
  {
   "cell_type": "code",
   "execution_count": 7,
   "metadata": {},
   "outputs": [],
   "source": [
    "for df in chunk_trips_list:\n",
    "    df['PK_4_TRIPS']=df['DAYOFSERVICE'].astype('str')+df['TRIPID'].astype('str')"
   ]
  },
  {
   "cell_type": "code",
   "execution_count": 8,
   "metadata": {},
   "outputs": [],
   "source": [
    "#updating bigdataframe with newly derived features chunks\n",
    "df_trips=pd.concat(chunk_trips_list, axis=0)"
   ]
  },
  {
   "cell_type": "code",
   "execution_count": 9,
   "metadata": {
    "scrolled": true
   },
   "outputs": [
    {
     "data": {
      "text/html": [
       "<div>\n",
       "<style scoped>\n",
       "    .dataframe tbody tr th:only-of-type {\n",
       "        vertical-align: middle;\n",
       "    }\n",
       "\n",
       "    .dataframe tbody tr th {\n",
       "        vertical-align: top;\n",
       "    }\n",
       "\n",
       "    .dataframe thead th {\n",
       "        text-align: right;\n",
       "    }\n",
       "</style>\n",
       "<table border=\"1\" class=\"dataframe\">\n",
       "  <thead>\n",
       "    <tr style=\"text-align: right;\">\n",
       "      <th></th>\n",
       "      <th>DAYOFSERVICE</th>\n",
       "      <th>TRIPID</th>\n",
       "      <th>LINEID</th>\n",
       "      <th>ROUTEID</th>\n",
       "      <th>DIRECTION</th>\n",
       "      <th>PLANNEDTIME_ARR</th>\n",
       "      <th>PLANNEDTIME_DEP</th>\n",
       "      <th>ACTUALTIME_ARR</th>\n",
       "      <th>ACTUALTIME_DEP</th>\n",
       "      <th>JUSTIFICATIONID</th>\n",
       "      <th>LASTUPDATE</th>\n",
       "      <th>NOTE</th>\n",
       "      <th>PK_4_TRIPS</th>\n",
       "    </tr>\n",
       "  </thead>\n",
       "  <tbody>\n",
       "    <tr>\n",
       "      <th>0</th>\n",
       "      <td>07-FEB-18 00:00:00</td>\n",
       "      <td>6253783</td>\n",
       "      <td>68</td>\n",
       "      <td>68_80</td>\n",
       "      <td>1</td>\n",
       "      <td>87245</td>\n",
       "      <td>84600</td>\n",
       "      <td>87524.0</td>\n",
       "      <td>84600.0</td>\n",
       "      <td>NaN</td>\n",
       "      <td>28-FEB-18 12:05:11</td>\n",
       "      <td>,2967409,</td>\n",
       "      <td>07-FEB-18 00:00:006253783</td>\n",
       "    </tr>\n",
       "    <tr>\n",
       "      <th>1</th>\n",
       "      <td>07-FEB-18 00:00:00</td>\n",
       "      <td>6262138</td>\n",
       "      <td>25B</td>\n",
       "      <td>25B_271</td>\n",
       "      <td>2</td>\n",
       "      <td>30517</td>\n",
       "      <td>26460</td>\n",
       "      <td>32752.0</td>\n",
       "      <td>NaN</td>\n",
       "      <td>NaN</td>\n",
       "      <td>28-FEB-18 12:05:11</td>\n",
       "      <td>,2580260,</td>\n",
       "      <td>07-FEB-18 00:00:006262138</td>\n",
       "    </tr>\n",
       "    <tr>\n",
       "      <th>2</th>\n",
       "      <td>07-FEB-18 00:00:00</td>\n",
       "      <td>6254942</td>\n",
       "      <td>45A</td>\n",
       "      <td>45A_70</td>\n",
       "      <td>2</td>\n",
       "      <td>35512</td>\n",
       "      <td>32100</td>\n",
       "      <td>36329.0</td>\n",
       "      <td>32082.0</td>\n",
       "      <td>NaN</td>\n",
       "      <td>28-FEB-18 12:05:11</td>\n",
       "      <td>,2448968,</td>\n",
       "      <td>07-FEB-18 00:00:006254942</td>\n",
       "    </tr>\n",
       "    <tr>\n",
       "      <th>3</th>\n",
       "      <td>07-FEB-18 00:00:00</td>\n",
       "      <td>6259460</td>\n",
       "      <td>25A</td>\n",
       "      <td>25A_273</td>\n",
       "      <td>1</td>\n",
       "      <td>57261</td>\n",
       "      <td>54420</td>\n",
       "      <td>58463.0</td>\n",
       "      <td>54443.0</td>\n",
       "      <td>NaN</td>\n",
       "      <td>28-FEB-18 12:05:11</td>\n",
       "      <td>,3094242,</td>\n",
       "      <td>07-FEB-18 00:00:006259460</td>\n",
       "    </tr>\n",
       "    <tr>\n",
       "      <th>4</th>\n",
       "      <td>07-FEB-18 00:00:00</td>\n",
       "      <td>6253175</td>\n",
       "      <td>14</td>\n",
       "      <td>14_15</td>\n",
       "      <td>1</td>\n",
       "      <td>85383</td>\n",
       "      <td>81600</td>\n",
       "      <td>84682.0</td>\n",
       "      <td>81608.0</td>\n",
       "      <td>NaN</td>\n",
       "      <td>28-FEB-18 12:05:11</td>\n",
       "      <td>,2526331,</td>\n",
       "      <td>07-FEB-18 00:00:006253175</td>\n",
       "    </tr>\n",
       "  </tbody>\n",
       "</table>\n",
       "</div>"
      ],
      "text/plain": [
       "         DAYOFSERVICE   TRIPID LINEID  ROUTEID  DIRECTION  PLANNEDTIME_ARR  \\\n",
       "0  07-FEB-18 00:00:00  6253783     68    68_80          1            87245   \n",
       "1  07-FEB-18 00:00:00  6262138    25B  25B_271          2            30517   \n",
       "2  07-FEB-18 00:00:00  6254942    45A   45A_70          2            35512   \n",
       "3  07-FEB-18 00:00:00  6259460    25A  25A_273          1            57261   \n",
       "4  07-FEB-18 00:00:00  6253175     14    14_15          1            85383   \n",
       "\n",
       "   PLANNEDTIME_DEP  ACTUALTIME_ARR  ACTUALTIME_DEP  JUSTIFICATIONID  \\\n",
       "0            84600         87524.0         84600.0              NaN   \n",
       "1            26460         32752.0             NaN              NaN   \n",
       "2            32100         36329.0         32082.0              NaN   \n",
       "3            54420         58463.0         54443.0              NaN   \n",
       "4            81600         84682.0         81608.0              NaN   \n",
       "\n",
       "           LASTUPDATE       NOTE                 PK_4_TRIPS  \n",
       "0  28-FEB-18 12:05:11  ,2967409,  07-FEB-18 00:00:006253783  \n",
       "1  28-FEB-18 12:05:11  ,2580260,  07-FEB-18 00:00:006262138  \n",
       "2  28-FEB-18 12:05:11  ,2448968,  07-FEB-18 00:00:006254942  \n",
       "3  28-FEB-18 12:05:11  ,3094242,  07-FEB-18 00:00:006259460  \n",
       "4  28-FEB-18 12:05:11  ,2526331,  07-FEB-18 00:00:006253175  "
      ]
     },
     "execution_count": 9,
     "metadata": {},
     "output_type": "execute_result"
    }
   ],
   "source": [
    "df_trips.head(5)"
   ]
  },
  {
   "cell_type": "code",
   "execution_count": 11,
   "metadata": {
    "scrolled": true
   },
   "outputs": [
    {
     "name": "stdout",
     "output_type": "stream",
     "text": [
      "(2182637, 13)\n"
     ]
    }
   ],
   "source": [
    "update_csv_chunks('/Chunks/trips/','chunk_trips', chunk_trips_list)"
   ]
  },
  {
   "cell_type": "markdown",
   "metadata": {},
   "source": [
    "#### ========================================================================================================"
   ]
  },
  {
   "cell_type": "markdown",
   "metadata": {},
   "source": [
    "Converting features into appropriate data types"
   ]
  },
  {
   "cell_type": "code",
   "execution_count": 4,
   "metadata": {},
   "outputs": [
    {
     "name": "stdout",
     "output_type": "stream",
     "text": [
      "('Location:', '/home/team8/notebook/Pelin/Chunks/trips/1chunk_trips.csv')\n"
     ]
    }
   ],
   "source": [
    "chunk_trips_list=get_chunks('/Chunks/trips')"
   ]
  },
  {
   "cell_type": "code",
   "execution_count": 5,
   "metadata": {},
   "outputs": [],
   "source": [
    "df_trips=pd.concat(chunk_trips_list, axis=0)"
   ]
  },
  {
   "cell_type": "code",
   "execution_count": 7,
   "metadata": {},
   "outputs": [
    {
     "data": {
      "text/plain": [
       "DAYOFSERVICE        object\n",
       "TRIPID               int64\n",
       "LINEID              object\n",
       "ROUTEID             object\n",
       "DIRECTION            int64\n",
       "PLANNEDTIME_ARR      int64\n",
       "PLANNEDTIME_DEP      int64\n",
       "ACTUALTIME_ARR     float64\n",
       "ACTUALTIME_DEP     float64\n",
       "JUSTIFICATIONID    float64\n",
       "LASTUPDATE          object\n",
       "NOTE                object\n",
       "PK_4_TRIPS          object\n",
       "dtype: object"
      ]
     },
     "execution_count": 7,
     "metadata": {},
     "output_type": "execute_result"
    }
   ],
   "source": [
    "df_trips.dtypes"
   ]
  },
  {
   "cell_type": "code",
   "execution_count": 8,
   "metadata": {},
   "outputs": [],
   "source": [
    "for df in chunk_trips_list:\n",
    "    df['DAYOFSERVICE']=df['DAYOFSERVICE'].astype('str')\n",
    "    df['LASTUPDATE']=df['LASTUPDATE'].astype('str')"
   ]
  },
  {
   "cell_type": "code",
   "execution_count": 9,
   "metadata": {},
   "outputs": [],
   "source": [
    "df_trips=pd.concat(chunk_trips_list, axis=0)"
   ]
  },
  {
   "cell_type": "code",
   "execution_count": 10,
   "metadata": {},
   "outputs": [
    {
     "data": {
      "text/plain": [
       "DAYOFSERVICE        object\n",
       "TRIPID               int64\n",
       "LINEID              object\n",
       "ROUTEID             object\n",
       "DIRECTION            int64\n",
       "PLANNEDTIME_ARR      int64\n",
       "PLANNEDTIME_DEP      int64\n",
       "ACTUALTIME_ARR     float64\n",
       "ACTUALTIME_DEP     float64\n",
       "JUSTIFICATIONID    float64\n",
       "LASTUPDATE          object\n",
       "NOTE                object\n",
       "PK_4_TRIPS          object\n",
       "dtype: object"
      ]
     },
     "execution_count": 10,
     "metadata": {},
     "output_type": "execute_result"
    }
   ],
   "source": [
    "df_trips.dtypes"
   ]
  },
  {
   "cell_type": "code",
   "execution_count": 11,
   "metadata": {
    "scrolled": true
   },
   "outputs": [
    {
     "data": {
      "text/html": [
       "<div>\n",
       "<style scoped>\n",
       "    .dataframe tbody tr th:only-of-type {\n",
       "        vertical-align: middle;\n",
       "    }\n",
       "\n",
       "    .dataframe tbody tr th {\n",
       "        vertical-align: top;\n",
       "    }\n",
       "\n",
       "    .dataframe thead th {\n",
       "        text-align: right;\n",
       "    }\n",
       "</style>\n",
       "<table border=\"1\" class=\"dataframe\">\n",
       "  <thead>\n",
       "    <tr style=\"text-align: right;\">\n",
       "      <th></th>\n",
       "      <th>DAYOFSERVICE</th>\n",
       "      <th>TRIPID</th>\n",
       "      <th>LINEID</th>\n",
       "      <th>ROUTEID</th>\n",
       "      <th>DIRECTION</th>\n",
       "      <th>PLANNEDTIME_ARR</th>\n",
       "      <th>PLANNEDTIME_DEP</th>\n",
       "      <th>ACTUALTIME_ARR</th>\n",
       "      <th>ACTUALTIME_DEP</th>\n",
       "      <th>JUSTIFICATIONID</th>\n",
       "      <th>LASTUPDATE</th>\n",
       "      <th>NOTE</th>\n",
       "      <th>PK_4_TRIPS</th>\n",
       "    </tr>\n",
       "  </thead>\n",
       "  <tbody>\n",
       "    <tr>\n",
       "      <th>0</th>\n",
       "      <td>07-FEB-18 00:00:00</td>\n",
       "      <td>6253783</td>\n",
       "      <td>68</td>\n",
       "      <td>68_80</td>\n",
       "      <td>1</td>\n",
       "      <td>87245</td>\n",
       "      <td>84600</td>\n",
       "      <td>87524.0</td>\n",
       "      <td>84600.0</td>\n",
       "      <td>NaN</td>\n",
       "      <td>28-FEB-18 12:05:11</td>\n",
       "      <td>,2967409,</td>\n",
       "      <td>07-FEB-18 00:00:006253783</td>\n",
       "    </tr>\n",
       "    <tr>\n",
       "      <th>1</th>\n",
       "      <td>07-FEB-18 00:00:00</td>\n",
       "      <td>6262138</td>\n",
       "      <td>25B</td>\n",
       "      <td>25B_271</td>\n",
       "      <td>2</td>\n",
       "      <td>30517</td>\n",
       "      <td>26460</td>\n",
       "      <td>32752.0</td>\n",
       "      <td>NaN</td>\n",
       "      <td>NaN</td>\n",
       "      <td>28-FEB-18 12:05:11</td>\n",
       "      <td>,2580260,</td>\n",
       "      <td>07-FEB-18 00:00:006262138</td>\n",
       "    </tr>\n",
       "    <tr>\n",
       "      <th>2</th>\n",
       "      <td>07-FEB-18 00:00:00</td>\n",
       "      <td>6254942</td>\n",
       "      <td>45A</td>\n",
       "      <td>45A_70</td>\n",
       "      <td>2</td>\n",
       "      <td>35512</td>\n",
       "      <td>32100</td>\n",
       "      <td>36329.0</td>\n",
       "      <td>32082.0</td>\n",
       "      <td>NaN</td>\n",
       "      <td>28-FEB-18 12:05:11</td>\n",
       "      <td>,2448968,</td>\n",
       "      <td>07-FEB-18 00:00:006254942</td>\n",
       "    </tr>\n",
       "    <tr>\n",
       "      <th>3</th>\n",
       "      <td>07-FEB-18 00:00:00</td>\n",
       "      <td>6259460</td>\n",
       "      <td>25A</td>\n",
       "      <td>25A_273</td>\n",
       "      <td>1</td>\n",
       "      <td>57261</td>\n",
       "      <td>54420</td>\n",
       "      <td>58463.0</td>\n",
       "      <td>54443.0</td>\n",
       "      <td>NaN</td>\n",
       "      <td>28-FEB-18 12:05:11</td>\n",
       "      <td>,3094242,</td>\n",
       "      <td>07-FEB-18 00:00:006259460</td>\n",
       "    </tr>\n",
       "    <tr>\n",
       "      <th>4</th>\n",
       "      <td>07-FEB-18 00:00:00</td>\n",
       "      <td>6253175</td>\n",
       "      <td>14</td>\n",
       "      <td>14_15</td>\n",
       "      <td>1</td>\n",
       "      <td>85383</td>\n",
       "      <td>81600</td>\n",
       "      <td>84682.0</td>\n",
       "      <td>81608.0</td>\n",
       "      <td>NaN</td>\n",
       "      <td>28-FEB-18 12:05:11</td>\n",
       "      <td>,2526331,</td>\n",
       "      <td>07-FEB-18 00:00:006253175</td>\n",
       "    </tr>\n",
       "  </tbody>\n",
       "</table>\n",
       "</div>"
      ],
      "text/plain": [
       "         DAYOFSERVICE   TRIPID LINEID  ROUTEID  DIRECTION  PLANNEDTIME_ARR  \\\n",
       "0  07-FEB-18 00:00:00  6253783     68    68_80          1            87245   \n",
       "1  07-FEB-18 00:00:00  6262138    25B  25B_271          2            30517   \n",
       "2  07-FEB-18 00:00:00  6254942    45A   45A_70          2            35512   \n",
       "3  07-FEB-18 00:00:00  6259460    25A  25A_273          1            57261   \n",
       "4  07-FEB-18 00:00:00  6253175     14    14_15          1            85383   \n",
       "\n",
       "   PLANNEDTIME_DEP  ACTUALTIME_ARR  ACTUALTIME_DEP  JUSTIFICATIONID  \\\n",
       "0            84600         87524.0         84600.0              NaN   \n",
       "1            26460         32752.0             NaN              NaN   \n",
       "2            32100         36329.0         32082.0              NaN   \n",
       "3            54420         58463.0         54443.0              NaN   \n",
       "4            81600         84682.0         81608.0              NaN   \n",
       "\n",
       "           LASTUPDATE       NOTE                 PK_4_TRIPS  \n",
       "0  28-FEB-18 12:05:11  ,2967409,  07-FEB-18 00:00:006253783  \n",
       "1  28-FEB-18 12:05:11  ,2580260,  07-FEB-18 00:00:006262138  \n",
       "2  28-FEB-18 12:05:11  ,2448968,  07-FEB-18 00:00:006254942  \n",
       "3  28-FEB-18 12:05:11  ,3094242,  07-FEB-18 00:00:006259460  \n",
       "4  28-FEB-18 12:05:11  ,2526331,  07-FEB-18 00:00:006253175  "
      ]
     },
     "execution_count": 11,
     "metadata": {},
     "output_type": "execute_result"
    }
   ],
   "source": [
    "df_trips.head(5)"
   ]
  },
  {
   "cell_type": "code",
   "execution_count": 20,
   "metadata": {
    "scrolled": true
   },
   "outputs": [
    {
     "name": "stdout",
     "output_type": "stream",
     "text": [
      "('NaN values at ACTUALTIME_DEP column :', 164551)\n",
      "('NaN values across dataset :', 2480065)\n"
     ]
    }
   ],
   "source": [
    "for df in chunk_trips_list:\n",
    "    print(\"NaN values at ACTUALTIME_DEP column :\", df['ACTUALTIME_DEP'].isna().sum())\n",
    "    print(\"NaN values across dataset :\", df.isna().sum().sum())"
   ]
  },
  {
   "cell_type": "markdown",
   "metadata": {},
   "source": [
    "This doesn't contain actual arrival or departure times if they are cancled which appear to be NaN in dataset. \n",
    "    \n",
    "    *therefore inorder to be able to cast this column as int and do artihmetic operations;\n",
    "    *we are filling NaN values at ACTUALTIME_DEP and ACTUALTIME_ARR with 0"
   ]
  },
  {
   "cell_type": "code",
   "execution_count": 23,
   "metadata": {},
   "outputs": [],
   "source": [
    "for df in chunk_trips_list:\n",
    "    df['ACTUALTIME_DEP']=df['ACTUALTIME_DEP'].fillna(0)\n",
    "    df['ACTUALTIME_ARR']=df['ACTUALTIME_ARR'].fillna(0)"
   ]
  },
  {
   "cell_type": "code",
   "execution_count": 24,
   "metadata": {
    "scrolled": true
   },
   "outputs": [
    {
     "name": "stdout",
     "output_type": "stream",
     "text": [
      "('NaN values at ACTUALTIME_DEP column :', 0)\n",
      "('NaN values at ACTUALTIME_ARR column :', 0)\n",
      "('NaN values across dataset :', 2178307)\n"
     ]
    }
   ],
   "source": [
    "for df in chunk_trips_list:\n",
    "    print(\"NaN values at ACTUALTIME_DEP column :\", df['ACTUALTIME_DEP'].isna().sum())\n",
    "    print(\"NaN values at ACTUALTIME_ARR column :\", df['ACTUALTIME_ARR'].isna().sum())\n",
    "    print(\"NaN values across dataset :\", df.isna().sum().sum())"
   ]
  },
  {
   "cell_type": "code",
   "execution_count": 25,
   "metadata": {},
   "outputs": [],
   "source": [
    "def trips_list_dtype_converter(df):\n",
    "    df['DAYOFSERVICE'] =  pd.to_datetime(df['DAYOFSERVICE'], format=\"%d-%b-%y %H:%M:%S\")\n",
    "    df['TRIPID']=df['TRIPID'].astype('category')\n",
    "    df['LINEID']=df['LINEID'].astype('category')\n",
    "    df['ROUTEID']=df['ROUTEID'].astype('category')\n",
    "    df['DIRECTION']=df['DIRECTION'].astype('category')\n",
    "    df['ACTUALTIME_ARR']=df['ACTUALTIME_ARR'].astype('int64')\n",
    "    df['ACTUALTIME_DEP']=df['ACTUALTIME_DEP'].astype('int64')\n",
    "    df['JUSTIFICATIONID']=df['JUSTIFICATIONID'].astype('str')\n",
    "    df['LASTUPDATE'] =  pd.to_datetime(df['LASTUPDATE'], format=\"%d-%b-%y %H:%M:%S\")\n",
    "    df['NOTE']=df['NOTE'].astype('str')\n",
    "    df['PK_4_TRIPS']=df['PK_4_TRIPS'].astype('str')\n",
    "    print(df.dtypes)\n",
    "    return df"
   ]
  },
  {
   "cell_type": "code",
   "execution_count": 26,
   "metadata": {},
   "outputs": [
    {
     "name": "stdout",
     "output_type": "stream",
     "text": [
      "DAYOFSERVICE       datetime64[ns]\n",
      "TRIPID                   category\n",
      "LINEID                   category\n",
      "ROUTEID                  category\n",
      "DIRECTION                category\n",
      "PLANNEDTIME_ARR             int64\n",
      "PLANNEDTIME_DEP             int64\n",
      "ACTUALTIME_ARR              int64\n",
      "ACTUALTIME_DEP              int64\n",
      "JUSTIFICATIONID            object\n",
      "LASTUPDATE         datetime64[ns]\n",
      "NOTE                       object\n",
      "PK_4_TRIPS                 object\n",
      "dtype: object\n"
     ]
    }
   ],
   "source": [
    "chunk_trips_list=map(trips_list_dtype_converter,chunk_trips_list)"
   ]
  },
  {
   "cell_type": "code",
   "execution_count": 27,
   "metadata": {},
   "outputs": [],
   "source": [
    "df_trips=pd.concat(chunk_trips_list, axis=0)"
   ]
  },
  {
   "cell_type": "code",
   "execution_count": 28,
   "metadata": {},
   "outputs": [
    {
     "name": "stdout",
     "output_type": "stream",
     "text": [
      "(2182637, 13)\n"
     ]
    }
   ],
   "source": [
    "update_csv_chunks('/Chunks/trips/','chunk_trips', chunk_trips_list)"
   ]
  }
 ],
 "metadata": {
  "kernelspec": {
   "display_name": "Python 3",
   "language": "python",
   "name": "python3"
  },
  "language_info": {
   "codemirror_mode": {
    "name": "ipython",
    "version": 2
   },
   "file_extension": ".py",
   "mimetype": "text/x-python",
   "name": "python",
   "nbconvert_exporter": "python",
   "pygments_lexer": "ipython2",
   "version": "2.7.17"
  }
 },
 "nbformat": 4,
 "nbformat_minor": 2
}
