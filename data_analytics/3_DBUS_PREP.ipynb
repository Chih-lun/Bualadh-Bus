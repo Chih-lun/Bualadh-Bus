{
 "cells": [
  {
   "cell_type": "code",
   "execution_count": 2,
   "metadata": {},
   "outputs": [],
   "source": [
    "#Import package pandas for data analysis\n",
    "import pandas as pd\n",
    "# Import package numpy for numeric computing\n",
    "import numpy as np\n",
    "from numpy import int64\n",
    "from numpy import float64\n",
    "from numpy import datetime64\n",
    "# Import package matplotlib for visualisation/plotting\n",
    "import matplotlib.pyplot as plt\n",
    "# Allows plots to appear directly in the notebook.\n",
    "%matplotlib inline\n",
    "# For dealing with some Accented characters (in Irish Place names)\n",
    "import unidecode\n",
    "# Date/time functionality\n",
    "import datetime\n",
    "import time\n",
    "# Check if files exist\n",
    "from os.path import exists\n",
    "from os import makedirs\n",
    "# System specific parameters and functions\n",
    "import sys\n",
    "# look at some z-scores for inspecting outliers.\n",
    "from scipy import stats\n",
    "import seaborn as sb\n",
    "# lookup lat/long and convert lat/long to national grid references.\n",
    "import geopy\n",
    "import pyproj\n",
    "\n",
    "from patsy import dmatrices\n",
    "from sklearn import metrics\n",
    "\n",
    "from sklearn.datasets import make_classification\n",
    "from sklearn.ensemble import RandomForestClassifier\n",
    "from sklearn.ensemble import RandomForestRegressor\n",
    "\n",
    "from sklearn.linear_model import LinearRegression\n",
    "from sklearn.tree import DecisionTreeClassifier\n",
    "from sklearn.tree import DecisionTreeRegressor\n",
    "from sklearn.tree import export_graphviz\n",
    "#from sklearn.tree import export_text\n",
    "\n",
    "from sklearn.metrics import mean_absolute_error, make_scorer\n",
    "from sklearn.preprocessing import LabelEncoder\n",
    "\n",
    "from sklearn.model_selection import cross_validate\n",
    "from sklearn.model_selection import cross_val_score \n",
    "from sklearn.model_selection import RepeatedStratifiedKFold\n",
    "from sklearn.model_selection import train_test_split\n",
    "\n",
    "import graphviz\n",
    "from graphviz import Source\n",
    "#to read all CSV files in a folder\n",
    "import os\n",
    "import glob"
   ]
  },
  {
   "cell_type": "code",
   "execution_count": 3,
   "metadata": {},
   "outputs": [],
   "source": [
    "def get_chunks(location):\n",
    "    cwd=os.getcwd()\n",
    "    path = cwd+location\n",
    "    chunk_folder = glob.glob(os.path.join(path, \"*.csv\"))\n",
    "    chunk_list=[]\n",
    "    for filename in chunk_folder:\n",
    "        # read the csv file\n",
    "        df_chunk = pd.read_csv(filename)\n",
    "        chunk_list.append(df_chunk)\n",
    "        print('Location:', filename)\n",
    "    return chunk_list"
   ]
  },
  {
   "cell_type": "code",
   "execution_count": 3,
   "metadata": {},
   "outputs": [
    {
     "name": "stdout",
     "output_type": "stream",
     "text": [
      "('Location:', '/home/team8/notebook/Pelin/Chunks/leavetimes/9chunk_leavetimes.csv')\n",
      "('Location:', '/home/team8/notebook/Pelin/Chunks/leavetimes/10chunk_leavetimes.csv')\n",
      "('Location:', '/home/team8/notebook/Pelin/Chunks/leavetimes/6chunk_leavetimes.csv')\n",
      "('Location:', '/home/team8/notebook/Pelin/Chunks/leavetimes/1chunk_leavetimes.csv')\n",
      "('Location:', '/home/team8/notebook/Pelin/Chunks/leavetimes/7chunk_leavetimes.csv')\n",
      "('Location:', '/home/team8/notebook/Pelin/Chunks/leavetimes/2chunk_leavetimes.csv')\n",
      "('Location:', '/home/team8/notebook/Pelin/Chunks/leavetimes/5chunk_leavetimes.csv')\n",
      "('Location:', '/home/team8/notebook/Pelin/Chunks/leavetimes/3chunk_leavetimes.csv')\n",
      "('Location:', '/home/team8/notebook/Pelin/Chunks/leavetimes/8chunk_leavetimes.csv')\n",
      "('Location:', '/home/team8/notebook/Pelin/Chunks/leavetimes/12chunk_leavetimes.csv')\n",
      "('Location:', '/home/team8/notebook/Pelin/Chunks/leavetimes/11chunk_leavetimes.csv')\n",
      "('Location:', '/home/team8/notebook/Pelin/Chunks/leavetimes/4chunk_leavetimes.csv')\n"
     ]
    }
   ],
   "source": [
    "chunk_leavetimes_list=get_chunks('/Chunks/leavetimes')"
   ]
  },
  {
   "cell_type": "code",
   "execution_count": 4,
   "metadata": {},
   "outputs": [
    {
     "name": "stdout",
     "output_type": "stream",
     "text": [
      "('Location:', '/home/team8/notebook/Pelin/Chunks/trips/1chunk_trips.csv')\n"
     ]
    }
   ],
   "source": [
    "chunk_trips_list=get_chunks('/Chunks/trips')"
   ]
  },
  {
   "cell_type": "code",
   "execution_count": 9,
   "metadata": {},
   "outputs": [
    {
     "name": "stdout",
     "output_type": "stream",
     "text": [
      "('Location:', '/home/team8/notebook/Pelin/Chunks/vehicles/1chunk_vehicles.csv')\n"
     ]
    }
   ],
   "source": [
    "chunk_vehicles_list=get_chunks('/Chunks/vehicles')"
   ]
  },
  {
   "cell_type": "code",
   "execution_count": 6,
   "metadata": {},
   "outputs": [],
   "source": [
    "df_trips=pd.concat(chunk_trips_list, axis=0)"
   ]
  },
  {
   "cell_type": "code",
   "execution_count": 10,
   "metadata": {},
   "outputs": [],
   "source": [
    "df_vehicles=pd.concat(chunk_vehicles_list, axis=0)"
   ]
  },
  {
   "cell_type": "code",
   "execution_count": 12,
   "metadata": {},
   "outputs": [],
   "source": [
    "df_dbus_list_v0=[]"
   ]
  },
  {
   "cell_type": "code",
   "execution_count": 13,
   "metadata": {},
   "outputs": [
    {
     "data": {
      "text/plain": [
       "0"
      ]
     },
     "execution_count": 13,
     "metadata": {},
     "output_type": "execute_result"
    }
   ],
   "source": [
    "len(df_dbus_list_v0)"
   ]
  },
  {
   "cell_type": "code",
   "execution_count": 14,
   "metadata": {
    "scrolled": true
   },
   "outputs": [
    {
     "name": "stdout",
     "output_type": "stream",
     "text": [
      "(10000000, 28)\n",
      "(10000000, 28)\n",
      "(6949113, 28)\n",
      "(10000000, 28)\n",
      "(10000000, 28)\n",
      "(10000000, 28)\n",
      "(10000000, 28)\n",
      "(10000000, 28)\n",
      "(10000000, 28)\n",
      "(10000000, 28)\n",
      "(10000000, 28)\n",
      "(10000000, 28)\n"
     ]
    }
   ],
   "source": [
    "for df in chunk_leavetimes_list:\n",
    "    df=pd.merge( df, df_trips, on=\"PK_4_TRIPS\", how=\"left\")\n",
    "    df_dbus_list_v0.append(df)\n",
    "    print(df.shape)"
   ]
  },
  {
   "cell_type": "code",
   "execution_count": 13,
   "metadata": {},
   "outputs": [],
   "source": [
    "def update_csv_chunks(adress,name, c_list):\n",
    "    cwd=os.getcwd()\n",
    "    path = cwd+adress\n",
    "    batch_no=1\n",
    "    for chunk in c_list:\n",
    "        chunk.to_csv(path+str(batch_no)+name+'.csv',index=False)\n",
    "        batch_no+=1\n",
    "        print(chunk.shape)"
   ]
  },
  {
   "cell_type": "code",
   "execution_count": null,
   "metadata": {
    "scrolled": true
   },
   "outputs": [],
   "source": [
    "update_csv_chunks('/Chunks/DBUS/','chunk_DBUS', df_dbus_list_v0)"
   ]
  },
  {
   "cell_type": "markdown",
   "metadata": {},
   "source": [
    "#### ========================================================================================================"
   ]
  },
  {
   "cell_type": "code",
   "execution_count": null,
   "metadata": {},
   "outputs": [],
   "source": [
    "df_dbus_list_v0=get_chunks('/Chunks/DBUS')"
   ]
  },
  {
   "cell_type": "code",
   "execution_count": 47,
   "metadata": {
    "scrolled": true
   },
   "outputs": [
    {
     "data": {
      "text/html": [
       "<div>\n",
       "<style scoped>\n",
       "    .dataframe tbody tr th:only-of-type {\n",
       "        vertical-align: middle;\n",
       "    }\n",
       "\n",
       "    .dataframe tbody tr th {\n",
       "        vertical-align: top;\n",
       "    }\n",
       "\n",
       "    .dataframe thead th {\n",
       "        text-align: right;\n",
       "    }\n",
       "</style>\n",
       "<table border=\"1\" class=\"dataframe\">\n",
       "  <thead>\n",
       "    <tr style=\"text-align: right;\">\n",
       "      <th></th>\n",
       "      <th>DAYOFSERVICE_x</th>\n",
       "      <th>TRIPID_x</th>\n",
       "      <th>PROGRNUMBER</th>\n",
       "      <th>STOPPOINTID</th>\n",
       "      <th>PLANNEDTIME_ARR_x</th>\n",
       "      <th>PLANNEDTIME_DEP_x</th>\n",
       "      <th>ACTUALTIME_ARR_x</th>\n",
       "      <th>ACTUALTIME_DEP_x</th>\n",
       "      <th>VEHICLEID</th>\n",
       "      <th>SUPPRESSED</th>\n",
       "      <th>...</th>\n",
       "      <th>LINEID</th>\n",
       "      <th>ROUTEID</th>\n",
       "      <th>DIRECTION</th>\n",
       "      <th>PLANNEDTIME_ARR_y</th>\n",
       "      <th>PLANNEDTIME_DEP_y</th>\n",
       "      <th>ACTUALTIME_ARR_y</th>\n",
       "      <th>ACTUALTIME_DEP_y</th>\n",
       "      <th>JUSTIFICATIONID_y</th>\n",
       "      <th>LASTUPDATE_y</th>\n",
       "      <th>NOTE</th>\n",
       "    </tr>\n",
       "  </thead>\n",
       "  <tbody>\n",
       "    <tr>\n",
       "      <th>0</th>\n",
       "      <td>03-JUN-18 00:00:00</td>\n",
       "      <td>6852445</td>\n",
       "      <td>40</td>\n",
       "      <td>5149</td>\n",
       "      <td>63978</td>\n",
       "      <td>63978</td>\n",
       "      <td>63936</td>\n",
       "      <td>63936</td>\n",
       "      <td>2693203</td>\n",
       "      <td>NaN</td>\n",
       "      <td>...</td>\n",
       "      <td>123</td>\n",
       "      <td>123_36</td>\n",
       "      <td>2</td>\n",
       "      <td>64374</td>\n",
       "      <td>61200</td>\n",
       "      <td>64307</td>\n",
       "      <td>61225</td>\n",
       "      <td>NaN</td>\n",
       "      <td>2018-06-14 14:37:35</td>\n",
       "      <td>,1917658,</td>\n",
       "    </tr>\n",
       "    <tr>\n",
       "      <th>1</th>\n",
       "      <td>03-JUN-18 00:00:00</td>\n",
       "      <td>6858393</td>\n",
       "      <td>40</td>\n",
       "      <td>5149</td>\n",
       "      <td>66378</td>\n",
       "      <td>66378</td>\n",
       "      <td>66910</td>\n",
       "      <td>66910</td>\n",
       "      <td>2534801</td>\n",
       "      <td>NaN</td>\n",
       "      <td>...</td>\n",
       "      <td>123</td>\n",
       "      <td>123_36</td>\n",
       "      <td>2</td>\n",
       "      <td>66774</td>\n",
       "      <td>63600</td>\n",
       "      <td>67384</td>\n",
       "      <td>63560</td>\n",
       "      <td>NaN</td>\n",
       "      <td>2018-06-14 14:37:35</td>\n",
       "      <td>,1929192,</td>\n",
       "    </tr>\n",
       "    <tr>\n",
       "      <th>2</th>\n",
       "      <td>03-JUN-18 00:00:00</td>\n",
       "      <td>6852437</td>\n",
       "      <td>40</td>\n",
       "      <td>5149</td>\n",
       "      <td>35750</td>\n",
       "      <td>35750</td>\n",
       "      <td>35871</td>\n",
       "      <td>35871</td>\n",
       "      <td>2693203</td>\n",
       "      <td>NaN</td>\n",
       "      <td>...</td>\n",
       "      <td>123</td>\n",
       "      <td>123_36</td>\n",
       "      <td>2</td>\n",
       "      <td>36075</td>\n",
       "      <td>33600</td>\n",
       "      <td>36160</td>\n",
       "      <td>33591</td>\n",
       "      <td>NaN</td>\n",
       "      <td>2018-06-14 14:37:35</td>\n",
       "      <td>,1917635,</td>\n",
       "    </tr>\n",
       "    <tr>\n",
       "      <th>3</th>\n",
       "      <td>03-JUN-18 00:00:00</td>\n",
       "      <td>6856489</td>\n",
       "      <td>40</td>\n",
       "      <td>5149</td>\n",
       "      <td>39591</td>\n",
       "      <td>39591</td>\n",
       "      <td>39842</td>\n",
       "      <td>39842</td>\n",
       "      <td>2693253</td>\n",
       "      <td>NaN</td>\n",
       "      <td>...</td>\n",
       "      <td>123</td>\n",
       "      <td>123_36</td>\n",
       "      <td>2</td>\n",
       "      <td>39928</td>\n",
       "      <td>37200</td>\n",
       "      <td>40784</td>\n",
       "      <td>37230</td>\n",
       "      <td>NaN</td>\n",
       "      <td>2018-06-14 14:37:35</td>\n",
       "      <td>,1922695,</td>\n",
       "    </tr>\n",
       "    <tr>\n",
       "      <th>4</th>\n",
       "      <td>03-JUN-18 00:00:00</td>\n",
       "      <td>6852439</td>\n",
       "      <td>40</td>\n",
       "      <td>5149</td>\n",
       "      <td>41991</td>\n",
       "      <td>41991</td>\n",
       "      <td>41969</td>\n",
       "      <td>41969</td>\n",
       "      <td>2693203</td>\n",
       "      <td>NaN</td>\n",
       "      <td>...</td>\n",
       "      <td>123</td>\n",
       "      <td>123_36</td>\n",
       "      <td>2</td>\n",
       "      <td>42328</td>\n",
       "      <td>39600</td>\n",
       "      <td>42223</td>\n",
       "      <td>39606</td>\n",
       "      <td>NaN</td>\n",
       "      <td>2018-06-14 14:37:35</td>\n",
       "      <td>,1917641,</td>\n",
       "    </tr>\n",
       "  </tbody>\n",
       "</table>\n",
       "<p>5 rows × 28 columns</p>\n",
       "</div>"
      ],
      "text/plain": [
       "       DAYOFSERVICE_x  TRIPID_x  PROGRNUMBER  STOPPOINTID  PLANNEDTIME_ARR_x  \\\n",
       "0  03-JUN-18 00:00:00   6852445           40         5149              63978   \n",
       "1  03-JUN-18 00:00:00   6858393           40         5149              66378   \n",
       "2  03-JUN-18 00:00:00   6852437           40         5149              35750   \n",
       "3  03-JUN-18 00:00:00   6856489           40         5149              39591   \n",
       "4  03-JUN-18 00:00:00   6852439           40         5149              41991   \n",
       "\n",
       "   PLANNEDTIME_DEP_x  ACTUALTIME_ARR_x  ACTUALTIME_DEP_x  VEHICLEID  \\\n",
       "0              63978             63936             63936    2693203   \n",
       "1              66378             66910             66910    2534801   \n",
       "2              35750             35871             35871    2693203   \n",
       "3              39591             39842             39842    2693253   \n",
       "4              41991             41969             41969    2693203   \n",
       "\n",
       "   SUPPRESSED  ...  LINEID ROUTEID  DIRECTION  PLANNEDTIME_ARR_y  \\\n",
       "0         NaN  ...     123  123_36          2              64374   \n",
       "1         NaN  ...     123  123_36          2              66774   \n",
       "2         NaN  ...     123  123_36          2              36075   \n",
       "3         NaN  ...     123  123_36          2              39928   \n",
       "4         NaN  ...     123  123_36          2              42328   \n",
       "\n",
       "  PLANNEDTIME_DEP_y ACTUALTIME_ARR_y ACTUALTIME_DEP_y  JUSTIFICATIONID_y  \\\n",
       "0             61200            64307            61225                NaN   \n",
       "1             63600            67384            63560                NaN   \n",
       "2             33600            36160            33591                NaN   \n",
       "3             37200            40784            37230                NaN   \n",
       "4             39600            42223            39606                NaN   \n",
       "\n",
       "          LASTUPDATE_y       NOTE  \n",
       "0  2018-06-14 14:37:35  ,1917658,  \n",
       "1  2018-06-14 14:37:35  ,1929192,  \n",
       "2  2018-06-14 14:37:35  ,1917635,  \n",
       "3  2018-06-14 14:37:35  ,1922695,  \n",
       "4  2018-06-14 14:37:35  ,1917641,  \n",
       "\n",
       "[5 rows x 28 columns]"
      ]
     },
     "execution_count": 47,
     "metadata": {},
     "output_type": "execute_result"
    }
   ],
   "source": [
    "df_dbus_list_v0[0].head(5)"
   ]
  },
  {
   "cell_type": "code",
   "execution_count": 48,
   "metadata": {},
   "outputs": [
    {
     "data": {
      "text/plain": [
       "Index([u'DAYOFSERVICE_x', u'TRIPID_x', u'PROGRNUMBER', u'STOPPOINTID',\n",
       "       u'PLANNEDTIME_ARR_x', u'PLANNEDTIME_DEP_x', u'ACTUALTIME_ARR_x',\n",
       "       u'ACTUALTIME_DEP_x', u'VEHICLEID', u'SUPPRESSED', u'JUSTIFICATIONID_x',\n",
       "       u'LASTUPDATE_x', u'DIFFERENCETIME_ARR', u'DIFFERENCETIME_DEP',\n",
       "       u'PK_4_TRIPS', u'PK_4_VehICLES', u'DAYOFSERVICE_y', u'TRIPID_y',\n",
       "       u'LINEID', u'ROUTEID', u'DIRECTION', u'PLANNEDTIME_ARR_y',\n",
       "       u'PLANNEDTIME_DEP_y', u'ACTUALTIME_ARR_y', u'ACTUALTIME_DEP_y',\n",
       "       u'JUSTIFICATIONID_y', u'LASTUPDATE_y', u'NOTE'],\n",
       "      dtype='object')"
      ]
     },
     "execution_count": 48,
     "metadata": {},
     "output_type": "execute_result"
    }
   ],
   "source": [
    "df_dbus_list_v0[0].columns"
   ]
  },
  {
   "cell_type": "code",
   "execution_count": 34,
   "metadata": {
    "scrolled": true
   },
   "outputs": [
    {
     "data": {
      "text/plain": [
       "DAYOFSERVICE_x        10000000\n",
       "TRIPID_x              10000000\n",
       "PROGRNUMBER           10000000\n",
       "STOPPOINTID           10000000\n",
       "PLANNEDTIME_ARR_x     10000000\n",
       "PLANNEDTIME_DEP_x     10000000\n",
       "ACTUALTIME_ARR_x      10000000\n",
       "ACTUALTIME_DEP_x      10000000\n",
       "VEHICLEID             10000000\n",
       "SUPPRESSED               51257\n",
       "JUSTIFICATIONID_x        51257\n",
       "LASTUPDATE_x          10000000\n",
       "DIFFERENCETIME_ARR    10000000\n",
       "DIFFERENCETIME_DEP    10000000\n",
       "PK_4_TRIPS            10000000\n",
       "PK_4_VehICLES         10000000\n",
       "DAYOFSERVICE_y        10000000\n",
       "TRIPID_y              10000000\n",
       "LINEID                10000000\n",
       "ROUTEID               10000000\n",
       "DIRECTION             10000000\n",
       "PLANNEDTIME_ARR_y     10000000\n",
       "PLANNEDTIME_DEP_y     10000000\n",
       "ACTUALTIME_ARR_y      10000000\n",
       "ACTUALTIME_DEP_y      10000000\n",
       "JUSTIFICATIONID_y         6111\n",
       "LASTUPDATE_y          10000000\n",
       "NOTE                  10000000\n",
       "dtype: int64"
      ]
     },
     "execution_count": 34,
     "metadata": {},
     "output_type": "execute_result"
    }
   ],
   "source": [
    "df_dbus_list_v0[0].notnull().sum()"
   ]
  },
  {
   "cell_type": "code",
   "execution_count": 15,
   "metadata": {},
   "outputs": [],
   "source": [
    "for df in df_dbus_list_v0:\n",
    "    del df['PK_4_TRIPS']\n",
    "    del df['DAYOFSERVICE_y']\n",
    "    del df['TRIPID_y']\n",
    "    del df['PLANNEDTIME_ARR_y']\n",
    "    del df['PLANNEDTIME_DEP_y']\n",
    "    del df['ACTUALTIME_ARR_y']\n",
    "    del df['ACTUALTIME_DEP_y']\n",
    "    del df['JUSTIFICATIONID_y']\n",
    "    del df['LASTUPDATE_y']"
   ]
  },
  {
   "cell_type": "code",
   "execution_count": 16,
   "metadata": {},
   "outputs": [],
   "source": [
    "for df in df_dbus_list_v0:\n",
    "    df.rename(columns={'DAYOFSERVICE_x':'DAYOFSERVICE','TRIPID_x':'TRIPID', 'PLANNEDTIME_ARR_x':'PLANNEDTIME_ARR','PLANNEDTIME_DEP_x':'PLANNEDTIME_DEP','ACTUALTIME_ARR_x':'ACTUALTIME_ARR','ACTUALTIME_DEP_x':'ACTUALTIME_DEP','JUSTIFICATIONID_x':'JUSTIFICATIONID','LASTUPDATE_x':'LASTUPDATE'},inplace=True)"
   ]
  },
  {
   "cell_type": "code",
   "execution_count": 50,
   "metadata": {},
   "outputs": [
    {
     "data": {
      "text/html": [
       "<div>\n",
       "<style scoped>\n",
       "    .dataframe tbody tr th:only-of-type {\n",
       "        vertical-align: middle;\n",
       "    }\n",
       "\n",
       "    .dataframe tbody tr th {\n",
       "        vertical-align: top;\n",
       "    }\n",
       "\n",
       "    .dataframe thead th {\n",
       "        text-align: right;\n",
       "    }\n",
       "</style>\n",
       "<table border=\"1\" class=\"dataframe\">\n",
       "  <thead>\n",
       "    <tr style=\"text-align: right;\">\n",
       "      <th></th>\n",
       "      <th>DAYOFSERVICE_x</th>\n",
       "      <th>TRIPID_x</th>\n",
       "      <th>PROGRNUMBER</th>\n",
       "      <th>STOPPOINTID</th>\n",
       "      <th>PLANNEDTIME_ARR_x</th>\n",
       "      <th>PLANNEDTIME_DEP_x</th>\n",
       "      <th>ACTUALTIME_ARR_x</th>\n",
       "      <th>ACTUALTIME_DEP_x</th>\n",
       "      <th>VEHICLEID</th>\n",
       "      <th>SUPPRESSED</th>\n",
       "      <th>JUSTIFICATIONID_x</th>\n",
       "      <th>LASTUPDATE_x</th>\n",
       "      <th>DIFFERENCETIME_ARR</th>\n",
       "      <th>DIFFERENCETIME_DEP</th>\n",
       "      <th>PK_4_VehICLES</th>\n",
       "      <th>LINEID</th>\n",
       "      <th>ROUTEID</th>\n",
       "      <th>DIRECTION</th>\n",
       "      <th>NOTE</th>\n",
       "    </tr>\n",
       "  </thead>\n",
       "  <tbody>\n",
       "    <tr>\n",
       "      <th>0</th>\n",
       "      <td>03-JUN-18 00:00:00</td>\n",
       "      <td>6852445</td>\n",
       "      <td>40</td>\n",
       "      <td>5149</td>\n",
       "      <td>63978</td>\n",
       "      <td>63978</td>\n",
       "      <td>63936</td>\n",
       "      <td>63936</td>\n",
       "      <td>2693203</td>\n",
       "      <td>NaN</td>\n",
       "      <td>NaN</td>\n",
       "      <td>14-JUN-18 14:37:35</td>\n",
       "      <td>-42</td>\n",
       "      <td>-42</td>\n",
       "      <td>03-JUN-18 00:00:002693203</td>\n",
       "      <td>123</td>\n",
       "      <td>123_36</td>\n",
       "      <td>2</td>\n",
       "      <td>,1917658,</td>\n",
       "    </tr>\n",
       "    <tr>\n",
       "      <th>1</th>\n",
       "      <td>03-JUN-18 00:00:00</td>\n",
       "      <td>6858393</td>\n",
       "      <td>40</td>\n",
       "      <td>5149</td>\n",
       "      <td>66378</td>\n",
       "      <td>66378</td>\n",
       "      <td>66910</td>\n",
       "      <td>66910</td>\n",
       "      <td>2534801</td>\n",
       "      <td>NaN</td>\n",
       "      <td>NaN</td>\n",
       "      <td>14-JUN-18 14:37:35</td>\n",
       "      <td>532</td>\n",
       "      <td>532</td>\n",
       "      <td>03-JUN-18 00:00:002534801</td>\n",
       "      <td>123</td>\n",
       "      <td>123_36</td>\n",
       "      <td>2</td>\n",
       "      <td>,1929192,</td>\n",
       "    </tr>\n",
       "    <tr>\n",
       "      <th>2</th>\n",
       "      <td>03-JUN-18 00:00:00</td>\n",
       "      <td>6852437</td>\n",
       "      <td>40</td>\n",
       "      <td>5149</td>\n",
       "      <td>35750</td>\n",
       "      <td>35750</td>\n",
       "      <td>35871</td>\n",
       "      <td>35871</td>\n",
       "      <td>2693203</td>\n",
       "      <td>NaN</td>\n",
       "      <td>NaN</td>\n",
       "      <td>14-JUN-18 14:37:35</td>\n",
       "      <td>121</td>\n",
       "      <td>121</td>\n",
       "      <td>03-JUN-18 00:00:002693203</td>\n",
       "      <td>123</td>\n",
       "      <td>123_36</td>\n",
       "      <td>2</td>\n",
       "      <td>,1917635,</td>\n",
       "    </tr>\n",
       "    <tr>\n",
       "      <th>3</th>\n",
       "      <td>03-JUN-18 00:00:00</td>\n",
       "      <td>6856489</td>\n",
       "      <td>40</td>\n",
       "      <td>5149</td>\n",
       "      <td>39591</td>\n",
       "      <td>39591</td>\n",
       "      <td>39842</td>\n",
       "      <td>39842</td>\n",
       "      <td>2693253</td>\n",
       "      <td>NaN</td>\n",
       "      <td>NaN</td>\n",
       "      <td>14-JUN-18 14:37:35</td>\n",
       "      <td>251</td>\n",
       "      <td>251</td>\n",
       "      <td>03-JUN-18 00:00:002693253</td>\n",
       "      <td>123</td>\n",
       "      <td>123_36</td>\n",
       "      <td>2</td>\n",
       "      <td>,1922695,</td>\n",
       "    </tr>\n",
       "    <tr>\n",
       "      <th>4</th>\n",
       "      <td>03-JUN-18 00:00:00</td>\n",
       "      <td>6852439</td>\n",
       "      <td>40</td>\n",
       "      <td>5149</td>\n",
       "      <td>41991</td>\n",
       "      <td>41991</td>\n",
       "      <td>41969</td>\n",
       "      <td>41969</td>\n",
       "      <td>2693203</td>\n",
       "      <td>NaN</td>\n",
       "      <td>NaN</td>\n",
       "      <td>14-JUN-18 14:37:35</td>\n",
       "      <td>-22</td>\n",
       "      <td>-22</td>\n",
       "      <td>03-JUN-18 00:00:002693203</td>\n",
       "      <td>123</td>\n",
       "      <td>123_36</td>\n",
       "      <td>2</td>\n",
       "      <td>,1917641,</td>\n",
       "    </tr>\n",
       "  </tbody>\n",
       "</table>\n",
       "</div>"
      ],
      "text/plain": [
       "       DAYOFSERVICE_x  TRIPID_x  PROGRNUMBER  STOPPOINTID  PLANNEDTIME_ARR_x  \\\n",
       "0  03-JUN-18 00:00:00   6852445           40         5149              63978   \n",
       "1  03-JUN-18 00:00:00   6858393           40         5149              66378   \n",
       "2  03-JUN-18 00:00:00   6852437           40         5149              35750   \n",
       "3  03-JUN-18 00:00:00   6856489           40         5149              39591   \n",
       "4  03-JUN-18 00:00:00   6852439           40         5149              41991   \n",
       "\n",
       "   PLANNEDTIME_DEP_x  ACTUALTIME_ARR_x  ACTUALTIME_DEP_x  VEHICLEID  \\\n",
       "0              63978             63936             63936    2693203   \n",
       "1              66378             66910             66910    2534801   \n",
       "2              35750             35871             35871    2693203   \n",
       "3              39591             39842             39842    2693253   \n",
       "4              41991             41969             41969    2693203   \n",
       "\n",
       "   SUPPRESSED  JUSTIFICATIONID_x        LASTUPDATE_x  DIFFERENCETIME_ARR  \\\n",
       "0         NaN                NaN  14-JUN-18 14:37:35                 -42   \n",
       "1         NaN                NaN  14-JUN-18 14:37:35                 532   \n",
       "2         NaN                NaN  14-JUN-18 14:37:35                 121   \n",
       "3         NaN                NaN  14-JUN-18 14:37:35                 251   \n",
       "4         NaN                NaN  14-JUN-18 14:37:35                 -22   \n",
       "\n",
       "   DIFFERENCETIME_DEP              PK_4_VehICLES LINEID ROUTEID  DIRECTION  \\\n",
       "0                 -42  03-JUN-18 00:00:002693203    123  123_36          2   \n",
       "1                 532  03-JUN-18 00:00:002534801    123  123_36          2   \n",
       "2                 121  03-JUN-18 00:00:002693203    123  123_36          2   \n",
       "3                 251  03-JUN-18 00:00:002693253    123  123_36          2   \n",
       "4                 -22  03-JUN-18 00:00:002693203    123  123_36          2   \n",
       "\n",
       "        NOTE  \n",
       "0  ,1917658,  \n",
       "1  ,1929192,  \n",
       "2  ,1917635,  \n",
       "3  ,1922695,  \n",
       "4  ,1917641,  "
      ]
     },
     "execution_count": 50,
     "metadata": {},
     "output_type": "execute_result"
    }
   ],
   "source": [
    "df_dbus_list_v0[0].head(5)"
   ]
  },
  {
   "cell_type": "code",
   "execution_count": 19,
   "metadata": {
    "scrolled": true
   },
   "outputs": [
    {
     "name": "stdout",
     "output_type": "stream",
     "text": [
      "(10000000, 19)\n",
      "(10000000, 19)\n",
      "(6949113, 19)\n",
      "(10000000, 19)\n",
      "(10000000, 19)\n",
      "(10000000, 19)\n",
      "(10000000, 19)\n",
      "(10000000, 19)\n",
      "(10000000, 19)\n",
      "(10000000, 19)\n",
      "(10000000, 19)\n",
      "(10000000, 19)\n"
     ]
    }
   ],
   "source": [
    "update_csv_chunks('/Chunks/DBUS/','chunk_DBUS', df_dbus_list_v0)"
   ]
  },
  {
   "cell_type": "markdown",
   "metadata": {},
   "source": [
    "#### ========================================================================================================"
   ]
  },
  {
   "cell_type": "code",
   "execution_count": 4,
   "metadata": {
    "scrolled": true
   },
   "outputs": [
    {
     "name": "stdout",
     "output_type": "stream",
     "text": [
      "('Location:', '/home/team8/notebook/Pelin/Chunks/DBUS/12chunk_DBUS.csv')\n",
      "('Location:', '/home/team8/notebook/Pelin/Chunks/DBUS/6chunk_DBUS.csv')\n"
     ]
    },
    {
     "name": "stderr",
     "output_type": "stream",
     "text": [
      "/home/team8/notebook/jupyterenv/local/lib/python2.7/site-packages/IPython/core/interactiveshell.py:2818: DtypeWarning: Columns (15) have mixed types. Specify dtype option on import or set low_memory=False.\n",
      "  if self.run_code(code, result):\n"
     ]
    },
    {
     "name": "stdout",
     "output_type": "stream",
     "text": [
      "('Location:', '/home/team8/notebook/Pelin/Chunks/DBUS/11chunk_DBUS.csv')\n",
      "('Location:', '/home/team8/notebook/Pelin/Chunks/DBUS/7chunk_DBUS.csv')\n",
      "('Location:', '/home/team8/notebook/Pelin/Chunks/DBUS/1chunk_DBUS.csv')\n",
      "('Location:', '/home/team8/notebook/Pelin/Chunks/DBUS/3chunk_DBUS.csv')\n",
      "('Location:', '/home/team8/notebook/Pelin/Chunks/DBUS/2chunk_DBUS.csv')\n",
      "('Location:', '/home/team8/notebook/Pelin/Chunks/DBUS/8chunk_DBUS.csv')\n",
      "('Location:', '/home/team8/notebook/Pelin/Chunks/DBUS/10chunk_DBUS.csv')\n",
      "('Location:', '/home/team8/notebook/Pelin/Chunks/DBUS/9chunk_DBUS.csv')\n",
      "('Location:', '/home/team8/notebook/Pelin/Chunks/DBUS/4chunk_DBUS.csv')\n",
      "('Location:', '/home/team8/notebook/Pelin/Chunks/DBUS/5chunk_DBUS.csv')\n"
     ]
    }
   ],
   "source": [
    "df_dbus_list_v0=get_chunks('/Chunks/DBUS')"
   ]
  },
  {
   "cell_type": "code",
   "execution_count": 5,
   "metadata": {},
   "outputs": [],
   "source": [
    "df_dbus_list_final=[]"
   ]
  },
  {
   "cell_type": "code",
   "execution_count": 7,
   "metadata": {},
   "outputs": [
    {
     "data": {
      "text/plain": [
       "0"
      ]
     },
     "execution_count": 7,
     "metadata": {},
     "output_type": "execute_result"
    }
   ],
   "source": [
    "len(df_dbus_list_final)"
   ]
  },
  {
   "cell_type": "code",
   "execution_count": 11,
   "metadata": {
    "scrolled": true
   },
   "outputs": [
    {
     "name": "stdout",
     "output_type": "stream",
     "text": [
      "(10000000, 24)\n",
      "(10000000, 24)\n",
      "(10000000, 24)\n",
      "(10000000, 24)\n",
      "(10000000, 24)\n",
      "(6949113, 24)\n",
      "(10000000, 24)\n",
      "(10000000, 24)\n",
      "(10000000, 24)\n",
      "(10000000, 24)\n",
      "(10000000, 24)\n",
      "(10000000, 24)\n"
     ]
    }
   ],
   "source": [
    "for df in df_dbus_list_v0:\n",
    "    df=pd.merge( df, df_vehicles, on=\"PK_4_VehICLES\", how=\"left\")\n",
    "    df_dbus_list_final.append(df)\n",
    "    print(df.shape)"
   ]
  },
  {
   "cell_type": "code",
   "execution_count": null,
   "metadata": {},
   "outputs": [],
   "source": [
    "for df in df_dbus_list_final:\n",
    "    print(df.head(2))"
   ]
  },
  {
   "cell_type": "code",
   "execution_count": 14,
   "metadata": {},
   "outputs": [
    {
     "name": "stdout",
     "output_type": "stream",
     "text": [
      "(10000000, 24)\n",
      "(10000000, 24)\n",
      "(10000000, 24)\n",
      "(10000000, 24)\n",
      "(10000000, 24)\n",
      "(6949113, 24)\n",
      "(10000000, 24)\n",
      "(10000000, 24)\n",
      "(10000000, 24)\n",
      "(10000000, 24)\n",
      "(10000000, 24)\n",
      "(10000000, 24)\n"
     ]
    }
   ],
   "source": [
    "update_csv_chunks('/Chunks/DBUS/final/','chunk_DBUS', df_dbus_list_final)"
   ]
  },
  {
   "cell_type": "code",
   "execution_count": 15,
   "metadata": {},
   "outputs": [
    {
     "data": {
      "text/html": [
       "<div>\n",
       "<style scoped>\n",
       "    .dataframe tbody tr th:only-of-type {\n",
       "        vertical-align: middle;\n",
       "    }\n",
       "\n",
       "    .dataframe tbody tr th {\n",
       "        vertical-align: top;\n",
       "    }\n",
       "\n",
       "    .dataframe thead th {\n",
       "        text-align: right;\n",
       "    }\n",
       "</style>\n",
       "<table border=\"1\" class=\"dataframe\">\n",
       "  <thead>\n",
       "    <tr style=\"text-align: right;\">\n",
       "      <th></th>\n",
       "      <th>DAYOFSERVICE_x</th>\n",
       "      <th>TRIPID</th>\n",
       "      <th>PROGRNUMBER</th>\n",
       "      <th>STOPPOINTID</th>\n",
       "      <th>PLANNEDTIME_ARR</th>\n",
       "      <th>PLANNEDTIME_DEP</th>\n",
       "      <th>ACTUALTIME_ARR</th>\n",
       "      <th>ACTUALTIME_DEP</th>\n",
       "      <th>VEHICLEID_x</th>\n",
       "      <th>SUPPRESSED</th>\n",
       "      <th>...</th>\n",
       "      <th>PK_4_VehICLES</th>\n",
       "      <th>LINEID</th>\n",
       "      <th>ROUTEID</th>\n",
       "      <th>DIRECTION</th>\n",
       "      <th>NOTE</th>\n",
       "      <th>DAYOFSERVICE_y</th>\n",
       "      <th>VEHICLEID_y</th>\n",
       "      <th>DISTANCE</th>\n",
       "      <th>MINUTES</th>\n",
       "      <th>LASTUPDATE_y</th>\n",
       "    </tr>\n",
       "  </thead>\n",
       "  <tbody>\n",
       "    <tr>\n",
       "      <th>0</th>\n",
       "      <td>03-AUG-18 00:00:00</td>\n",
       "      <td>7329433</td>\n",
       "      <td>56</td>\n",
       "      <td>2967</td>\n",
       "      <td>28612</td>\n",
       "      <td>28612</td>\n",
       "      <td>28829</td>\n",
       "      <td>28829</td>\n",
       "      <td>1001239</td>\n",
       "      <td>NaN</td>\n",
       "      <td>...</td>\n",
       "      <td>03-AUG-18 00:00:001001239</td>\n",
       "      <td>16</td>\n",
       "      <td>16_21</td>\n",
       "      <td>1</td>\n",
       "      <td>,1900797,</td>\n",
       "      <td>03-AUG-18 00:00:00</td>\n",
       "      <td>1001239</td>\n",
       "      <td>139961</td>\n",
       "      <td>39602</td>\n",
       "      <td>18-AUG-18 18:21:22</td>\n",
       "    </tr>\n",
       "    <tr>\n",
       "      <th>1</th>\n",
       "      <td>03-AUG-18 00:00:00</td>\n",
       "      <td>7324687</td>\n",
       "      <td>56</td>\n",
       "      <td>2967</td>\n",
       "      <td>27412</td>\n",
       "      <td>27412</td>\n",
       "      <td>27417</td>\n",
       "      <td>27422</td>\n",
       "      <td>1932321</td>\n",
       "      <td>NaN</td>\n",
       "      <td>...</td>\n",
       "      <td>03-AUG-18 00:00:001932321</td>\n",
       "      <td>16</td>\n",
       "      <td>16_21</td>\n",
       "      <td>1</td>\n",
       "      <td>,1901351,</td>\n",
       "      <td>03-AUG-18 00:00:00</td>\n",
       "      <td>1932321</td>\n",
       "      <td>184517</td>\n",
       "      <td>63481</td>\n",
       "      <td>18-AUG-18 18:21:22</td>\n",
       "    </tr>\n",
       "    <tr>\n",
       "      <th>2</th>\n",
       "      <td>03-AUG-18 00:00:00</td>\n",
       "      <td>7318786</td>\n",
       "      <td>56</td>\n",
       "      <td>2967</td>\n",
       "      <td>31319</td>\n",
       "      <td>31319</td>\n",
       "      <td>31671</td>\n",
       "      <td>31679</td>\n",
       "      <td>1000955</td>\n",
       "      <td>NaN</td>\n",
       "      <td>...</td>\n",
       "      <td>03-AUG-18 00:00:001000955</td>\n",
       "      <td>16</td>\n",
       "      <td>16_21</td>\n",
       "      <td>1</td>\n",
       "      <td>,1900700,</td>\n",
       "      <td>03-AUG-18 00:00:00</td>\n",
       "      <td>1000955</td>\n",
       "      <td>140496</td>\n",
       "      <td>42186</td>\n",
       "      <td>18-AUG-18 18:21:22</td>\n",
       "    </tr>\n",
       "    <tr>\n",
       "      <th>3</th>\n",
       "      <td>03-AUG-18 00:00:00</td>\n",
       "      <td>7323098</td>\n",
       "      <td>56</td>\n",
       "      <td>2967</td>\n",
       "      <td>32519</td>\n",
       "      <td>32519</td>\n",
       "      <td>33204</td>\n",
       "      <td>33216</td>\n",
       "      <td>1000956</td>\n",
       "      <td>NaN</td>\n",
       "      <td>...</td>\n",
       "      <td>03-AUG-18 00:00:001000956</td>\n",
       "      <td>16</td>\n",
       "      <td>16_21</td>\n",
       "      <td>1</td>\n",
       "      <td>,3043945,</td>\n",
       "      <td>03-AUG-18 00:00:00</td>\n",
       "      <td>1000956</td>\n",
       "      <td>210164</td>\n",
       "      <td>61031</td>\n",
       "      <td>18-AUG-18 18:21:22</td>\n",
       "    </tr>\n",
       "    <tr>\n",
       "      <th>4</th>\n",
       "      <td>03-AUG-18 00:00:00</td>\n",
       "      <td>7317189</td>\n",
       "      <td>56</td>\n",
       "      <td>2967</td>\n",
       "      <td>35062</td>\n",
       "      <td>35062</td>\n",
       "      <td>36173</td>\n",
       "      <td>36173</td>\n",
       "      <td>1000115</td>\n",
       "      <td>NaN</td>\n",
       "      <td>...</td>\n",
       "      <td>03-AUG-18 00:00:001000115</td>\n",
       "      <td>16</td>\n",
       "      <td>16_21</td>\n",
       "      <td>1</td>\n",
       "      <td>,3036974,</td>\n",
       "      <td>03-AUG-18 00:00:00</td>\n",
       "      <td>1000115</td>\n",
       "      <td>120151</td>\n",
       "      <td>33475</td>\n",
       "      <td>18-AUG-18 18:21:22</td>\n",
       "    </tr>\n",
       "  </tbody>\n",
       "</table>\n",
       "<p>5 rows × 24 columns</p>\n",
       "</div>"
      ],
      "text/plain": [
       "       DAYOFSERVICE_x   TRIPID  PROGRNUMBER  STOPPOINTID  PLANNEDTIME_ARR  \\\n",
       "0  03-AUG-18 00:00:00  7329433           56         2967            28612   \n",
       "1  03-AUG-18 00:00:00  7324687           56         2967            27412   \n",
       "2  03-AUG-18 00:00:00  7318786           56         2967            31319   \n",
       "3  03-AUG-18 00:00:00  7323098           56         2967            32519   \n",
       "4  03-AUG-18 00:00:00  7317189           56         2967            35062   \n",
       "\n",
       "   PLANNEDTIME_DEP  ACTUALTIME_ARR  ACTUALTIME_DEP  VEHICLEID_x  SUPPRESSED  \\\n",
       "0            28612           28829           28829      1001239         NaN   \n",
       "1            27412           27417           27422      1932321         NaN   \n",
       "2            31319           31671           31679      1000955         NaN   \n",
       "3            32519           33204           33216      1000956         NaN   \n",
       "4            35062           36173           36173      1000115         NaN   \n",
       "\n",
       "   ...              PK_4_VehICLES LINEID  ROUTEID  DIRECTION       NOTE  \\\n",
       "0  ...  03-AUG-18 00:00:001001239     16    16_21          1  ,1900797,   \n",
       "1  ...  03-AUG-18 00:00:001932321     16    16_21          1  ,1901351,   \n",
       "2  ...  03-AUG-18 00:00:001000955     16    16_21          1  ,1900700,   \n",
       "3  ...  03-AUG-18 00:00:001000956     16    16_21          1  ,3043945,   \n",
       "4  ...  03-AUG-18 00:00:001000115     16    16_21          1  ,3036974,   \n",
       "\n",
       "       DAYOFSERVICE_y VEHICLEID_y  DISTANCE MINUTES        LASTUPDATE_y  \n",
       "0  03-AUG-18 00:00:00     1001239    139961   39602  18-AUG-18 18:21:22  \n",
       "1  03-AUG-18 00:00:00     1932321    184517   63481  18-AUG-18 18:21:22  \n",
       "2  03-AUG-18 00:00:00     1000955    140496   42186  18-AUG-18 18:21:22  \n",
       "3  03-AUG-18 00:00:00     1000956    210164   61031  18-AUG-18 18:21:22  \n",
       "4  03-AUG-18 00:00:00     1000115    120151   33475  18-AUG-18 18:21:22  \n",
       "\n",
       "[5 rows x 24 columns]"
      ]
     },
     "execution_count": 15,
     "metadata": {},
     "output_type": "execute_result"
    }
   ],
   "source": [
    "df_dbus_list_final[0].head(5)"
   ]
  },
  {
   "cell_type": "code",
   "execution_count": 16,
   "metadata": {},
   "outputs": [
    {
     "data": {
      "text/plain": [
       "Index([u'DAYOFSERVICE_x', u'TRIPID', u'PROGRNUMBER', u'STOPPOINTID',\n",
       "       u'PLANNEDTIME_ARR', u'PLANNEDTIME_DEP', u'ACTUALTIME_ARR',\n",
       "       u'ACTUALTIME_DEP', u'VEHICLEID_x', u'SUPPRESSED', u'JUSTIFICATIONID',\n",
       "       u'LASTUPDATE_x', u'DIFFERENCETIME_ARR', u'DIFFERENCETIME_DEP',\n",
       "       u'PK_4_VehICLES', u'LINEID', u'ROUTEID', u'DIRECTION', u'NOTE',\n",
       "       u'DAYOFSERVICE_y', u'VEHICLEID_y', u'DISTANCE', u'MINUTES',\n",
       "       u'LASTUPDATE_y'],\n",
       "      dtype='object')"
      ]
     },
     "execution_count": 16,
     "metadata": {},
     "output_type": "execute_result"
    }
   ],
   "source": [
    "df_dbus_list_final[0].columns"
   ]
  },
  {
   "cell_type": "code",
   "execution_count": 17,
   "metadata": {},
   "outputs": [],
   "source": [
    "for df in df_dbus_list_final:\n",
    "    del df['PK_4_VehICLES']\n",
    "    del df['DAYOFSERVICE_y']\n",
    "    del df['VEHICLEID_y']\n",
    "    del df['LASTUPDATE_y']"
   ]
  },
  {
   "cell_type": "code",
   "execution_count": 18,
   "metadata": {},
   "outputs": [
    {
     "data": {
      "text/plain": [
       "Index([u'DAYOFSERVICE_x', u'TRIPID', u'PROGRNUMBER', u'STOPPOINTID',\n",
       "       u'PLANNEDTIME_ARR', u'PLANNEDTIME_DEP', u'ACTUALTIME_ARR',\n",
       "       u'ACTUALTIME_DEP', u'VEHICLEID_x', u'SUPPRESSED', u'JUSTIFICATIONID',\n",
       "       u'LASTUPDATE_x', u'DIFFERENCETIME_ARR', u'DIFFERENCETIME_DEP',\n",
       "       u'LINEID', u'ROUTEID', u'DIRECTION', u'NOTE', u'DISTANCE', u'MINUTES'],\n",
       "      dtype='object')"
      ]
     },
     "execution_count": 18,
     "metadata": {},
     "output_type": "execute_result"
    }
   ],
   "source": [
    "df_dbus_list_final[0].columns"
   ]
  },
  {
   "cell_type": "code",
   "execution_count": 20,
   "metadata": {},
   "outputs": [],
   "source": [
    "for df in df_dbus_list_final:\n",
    "    df.rename(columns={'DAYOFSERVICE_x':'DAYOFSERVICE','VEHICLEID_x':'VEHICLEID','LASTUPDATE_x':'LASTUPDATE'},inplace=True)"
   ]
  },
  {
   "cell_type": "code",
   "execution_count": 21,
   "metadata": {
    "scrolled": true
   },
   "outputs": [
    {
     "name": "stdout",
     "output_type": "stream",
     "text": [
      "(10000000, 20)\n",
      "(10000000, 20)\n",
      "(10000000, 20)\n",
      "(10000000, 20)\n",
      "(10000000, 20)\n",
      "(6949113, 20)\n",
      "(10000000, 20)\n",
      "(10000000, 20)\n",
      "(10000000, 20)\n",
      "(10000000, 20)\n",
      "(10000000, 20)\n",
      "(10000000, 20)\n"
     ]
    }
   ],
   "source": [
    "update_csv_chunks('/Chunks/DBUS/final/','chunk_DBUS', df_dbus_list_final)"
   ]
  }
 ],
 "metadata": {
  "kernelspec": {
   "display_name": "Python 3 (ipykernel)",
   "language": "python",
   "name": "python3"
  },
  "language_info": {
   "codemirror_mode": {
    "name": "ipython",
    "version": 3
   },
   "file_extension": ".py",
   "mimetype": "text/x-python",
   "name": "python",
   "nbconvert_exporter": "python",
   "pygments_lexer": "ipython3",
   "version": "3.9.12"
  }
 },
 "nbformat": 4,
 "nbformat_minor": 2
}
